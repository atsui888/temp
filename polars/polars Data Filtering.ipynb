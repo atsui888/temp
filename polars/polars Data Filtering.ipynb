{
 "cells": [
  {
   "cell_type": "markdown",
   "id": "ac6f6fb9-31df-4528-aa7f-4075793ed361",
   "metadata": {},
   "source": [
    "# Polars Data Filtering\n",
    "https://towardsdatascience.com/python-pandas-to-polars-data-filtering-a67ccb70a8b3"
   ]
  },
  {
   "cell_type": "code",
   "execution_count": 1,
   "id": "51cf96de-1ac9-4fbb-a38d-49c349595ab9",
   "metadata": {},
   "outputs": [
    {
     "data": {
      "text/html": [
       "<div>\n",
       "<style scoped>\n",
       "    .dataframe tbody tr th:only-of-type {\n",
       "        vertical-align: middle;\n",
       "    }\n",
       "\n",
       "    .dataframe tbody tr th {\n",
       "        vertical-align: top;\n",
       "    }\n",
       "\n",
       "    .dataframe thead th {\n",
       "        text-align: right;\n",
       "    }\n",
       "</style>\n",
       "<table border=\"1\" class=\"dataframe\">\n",
       "  <thead>\n",
       "    <tr style=\"text-align: right;\">\n",
       "      <th></th>\n",
       "      <th>store</th>\n",
       "      <th>product_group</th>\n",
       "      <th>product_code</th>\n",
       "      <th>stock_qty</th>\n",
       "      <th>cost</th>\n",
       "      <th>price</th>\n",
       "      <th>last_week_sales</th>\n",
       "      <th>last_month_sales</th>\n",
       "    </tr>\n",
       "  </thead>\n",
       "  <tbody>\n",
       "    <tr>\n",
       "      <th>0</th>\n",
       "      <td>Violet</td>\n",
       "      <td>PG2</td>\n",
       "      <td>4187</td>\n",
       "      <td>498</td>\n",
       "      <td>420.76</td>\n",
       "      <td>569.91</td>\n",
       "      <td>13</td>\n",
       "      <td>58</td>\n",
       "    </tr>\n",
       "    <tr>\n",
       "      <th>1</th>\n",
       "      <td>Rose</td>\n",
       "      <td>PG2</td>\n",
       "      <td>4195</td>\n",
       "      <td>473</td>\n",
       "      <td>545.64</td>\n",
       "      <td>712.41</td>\n",
       "      <td>16</td>\n",
       "      <td>58</td>\n",
       "    </tr>\n",
       "    <tr>\n",
       "      <th>2</th>\n",
       "      <td>Violet</td>\n",
       "      <td>PG2</td>\n",
       "      <td>4204</td>\n",
       "      <td>968</td>\n",
       "      <td>640.42</td>\n",
       "      <td>854.91</td>\n",
       "      <td>22</td>\n",
       "      <td>88</td>\n",
       "    </tr>\n",
       "    <tr>\n",
       "      <th>3</th>\n",
       "      <td>Daisy</td>\n",
       "      <td>PG2</td>\n",
       "      <td>4219</td>\n",
       "      <td>241</td>\n",
       "      <td>869.69</td>\n",
       "      <td>1034.55</td>\n",
       "      <td>14</td>\n",
       "      <td>45</td>\n",
       "    </tr>\n",
       "    <tr>\n",
       "      <th>4</th>\n",
       "      <td>Daisy</td>\n",
       "      <td>PG2</td>\n",
       "      <td>4718</td>\n",
       "      <td>1401</td>\n",
       "      <td>12.54</td>\n",
       "      <td>26.59</td>\n",
       "      <td>50</td>\n",
       "      <td>285</td>\n",
       "    </tr>\n",
       "  </tbody>\n",
       "</table>\n",
       "</div>"
      ],
      "text/plain": [
       "    store product_group  product_code  stock_qty    cost    price  \\\n",
       "0  Violet           PG2          4187        498  420.76   569.91   \n",
       "1    Rose           PG2          4195        473  545.64   712.41   \n",
       "2  Violet           PG2          4204        968  640.42   854.91   \n",
       "3   Daisy           PG2          4219        241  869.69  1034.55   \n",
       "4   Daisy           PG2          4718       1401   12.54    26.59   \n",
       "\n",
       "   last_week_sales  last_month_sales  \n",
       "0               13                58  \n",
       "1               16                58  \n",
       "2               22                88  \n",
       "3               14                45  \n",
       "4               50               285  "
      ]
     },
     "execution_count": 1,
     "metadata": {},
     "output_type": "execute_result"
    }
   ],
   "source": [
    "import pandas as pd\n",
    "import polars as pl\n",
    "# read csv\n",
    "df_pd = pd.read_csv(\"datasets/sales_data_with_stores.csv\")\n",
    "\n",
    "# display the first 5 rows\n",
    "df_pd.head()"
   ]
  },
  {
   "cell_type": "code",
   "execution_count": 2,
   "id": "2fe2d4da-1eed-4137-a981-1e79888ec2c1",
   "metadata": {},
   "outputs": [
    {
     "data": {
      "text/html": [
       "<div><style>\n",
       ".dataframe > thead > tr,\n",
       ".dataframe > tbody > tr {\n",
       "  text-align: right;\n",
       "  white-space: pre-wrap;\n",
       "}\n",
       "</style>\n",
       "<small>shape: (5, 8)</small><table border=\"1\" class=\"dataframe\"><thead><tr><th>store</th><th>product_group</th><th>product_code</th><th>stock_qty</th><th>cost</th><th>price</th><th>last_week_sales</th><th>last_month_sales</th></tr><tr><td>str</td><td>str</td><td>i64</td><td>i64</td><td>f64</td><td>f64</td><td>i64</td><td>i64</td></tr></thead><tbody><tr><td>&quot;Violet&quot;</td><td>&quot;PG2&quot;</td><td>4187</td><td>498</td><td>420.76</td><td>569.91</td><td>13</td><td>58</td></tr><tr><td>&quot;Rose&quot;</td><td>&quot;PG2&quot;</td><td>4195</td><td>473</td><td>545.64</td><td>712.41</td><td>16</td><td>58</td></tr><tr><td>&quot;Violet&quot;</td><td>&quot;PG2&quot;</td><td>4204</td><td>968</td><td>640.42</td><td>854.91</td><td>22</td><td>88</td></tr><tr><td>&quot;Daisy&quot;</td><td>&quot;PG2&quot;</td><td>4219</td><td>241</td><td>869.69</td><td>1034.55</td><td>14</td><td>45</td></tr><tr><td>&quot;Daisy&quot;</td><td>&quot;PG2&quot;</td><td>4718</td><td>1401</td><td>12.54</td><td>26.59</td><td>50</td><td>285</td></tr></tbody></table></div>"
      ],
      "text/plain": [
       "shape: (5, 8)\n",
       "┌────────┬───────────────┬──────────────┬───────────┬────────┬─────────┬─────────────────┬──────────────────┐\n",
       "│ store  ┆ product_group ┆ product_code ┆ stock_qty ┆ cost   ┆ price   ┆ last_week_sales ┆ last_month_sales │\n",
       "│ ---    ┆ ---           ┆ ---          ┆ ---       ┆ ---    ┆ ---     ┆ ---             ┆ ---              │\n",
       "│ str    ┆ str           ┆ i64          ┆ i64       ┆ f64    ┆ f64     ┆ i64             ┆ i64              │\n",
       "╞════════╪═══════════════╪══════════════╪═══════════╪════════╪═════════╪═════════════════╪══════════════════╡\n",
       "│ Violet ┆ PG2           ┆ 4187         ┆ 498       ┆ 420.76 ┆ 569.91  ┆ 13              ┆ 58               │\n",
       "│ Rose   ┆ PG2           ┆ 4195         ┆ 473       ┆ 545.64 ┆ 712.41  ┆ 16              ┆ 58               │\n",
       "│ Violet ┆ PG2           ┆ 4204         ┆ 968       ┆ 640.42 ┆ 854.91  ┆ 22              ┆ 88               │\n",
       "│ Daisy  ┆ PG2           ┆ 4219         ┆ 241       ┆ 869.69 ┆ 1034.55 ┆ 14              ┆ 45               │\n",
       "│ Daisy  ┆ PG2           ┆ 4718         ┆ 1401      ┆ 12.54  ┆ 26.59   ┆ 50              ┆ 285              │\n",
       "└────────┴───────────────┴──────────────┴───────────┴────────┴─────────┴─────────────────┴──────────────────┘"
      ]
     },
     "execution_count": 2,
     "metadata": {},
     "output_type": "execute_result"
    }
   ],
   "source": [
    "# polars\n",
    "import polars as pl\n",
    "\n",
    "# read_csv\n",
    "df_pl = pl.read_csv(\"datasets/sales_data_with_stores.csv\")\n",
    "\n",
    "# display the first 5 rows\n",
    "df_pl.head()"
   ]
  },
  {
   "cell_type": "markdown",
   "id": "313f8b60-4b39-4e3c-9502-18519002630f",
   "metadata": {},
   "source": [
    "# Example 1: Filter by numeric values\n",
    "Let’s filter rows in which the price is higher than 750."
   ]
  },
  {
   "cell_type": "code",
   "execution_count": 3,
   "id": "62fdb534-a265-4b5c-b5fe-20af694b8fb8",
   "metadata": {},
   "outputs": [
    {
     "data": {
      "text/html": [
       "<div><style>\n",
       ".dataframe > thead > tr,\n",
       ".dataframe > tbody > tr {\n",
       "  text-align: right;\n",
       "  white-space: pre-wrap;\n",
       "}\n",
       "</style>\n",
       "<small>shape: (5, 8)</small><table border=\"1\" class=\"dataframe\"><thead><tr><th>store</th><th>product_group</th><th>product_code</th><th>stock_qty</th><th>cost</th><th>price</th><th>last_week_sales</th><th>last_month_sales</th></tr><tr><td>str</td><td>str</td><td>i64</td><td>i64</td><td>f64</td><td>f64</td><td>i64</td><td>i64</td></tr></thead><tbody><tr><td>&quot;Daisy&quot;</td><td>&quot;PG2&quot;</td><td>4219</td><td>241</td><td>869.69</td><td>1034.55</td><td>14</td><td>45</td></tr><tr><td>&quot;Violet&quot;</td><td>&quot;PG1&quot;</td><td>9692</td><td>68</td><td>1243.0</td><td>1500.05</td><td>26</td><td>94</td></tr><tr><td>&quot;Violet&quot;</td><td>&quot;PG1&quot;</td><td>7773</td><td>602</td><td>975.7</td><td>1325.16</td><td>19</td><td>60</td></tr><tr><td>&quot;Daisy&quot;</td><td>&quot;PG1&quot;</td><td>1941</td><td>213</td><td>847.0</td><td>1177.05</td><td>18</td><td>72</td></tr><tr><td>&quot;Daisy&quot;</td><td>&quot;PG1&quot;</td><td>4140</td><td>92</td><td>803.0</td><td>1201.75</td><td>12</td><td>24</td></tr></tbody></table></div>"
      ],
      "text/plain": [
       "shape: (5, 8)\n",
       "┌────────┬───────────────┬──────────────┬───────────┬────────┬─────────┬─────────────────┬──────────────────┐\n",
       "│ store  ┆ product_group ┆ product_code ┆ stock_qty ┆ cost   ┆ price   ┆ last_week_sales ┆ last_month_sales │\n",
       "│ ---    ┆ ---           ┆ ---          ┆ ---       ┆ ---    ┆ ---     ┆ ---             ┆ ---              │\n",
       "│ str    ┆ str           ┆ i64          ┆ i64       ┆ f64    ┆ f64     ┆ i64             ┆ i64              │\n",
       "╞════════╪═══════════════╪══════════════╪═══════════╪════════╪═════════╪═════════════════╪══════════════════╡\n",
       "│ Daisy  ┆ PG2           ┆ 4219         ┆ 241       ┆ 869.69 ┆ 1034.55 ┆ 14              ┆ 45               │\n",
       "│ Violet ┆ PG1           ┆ 9692         ┆ 68        ┆ 1243.0 ┆ 1500.05 ┆ 26              ┆ 94               │\n",
       "│ Violet ┆ PG1           ┆ 7773         ┆ 602       ┆ 975.7  ┆ 1325.16 ┆ 19              ┆ 60               │\n",
       "│ Daisy  ┆ PG1           ┆ 1941         ┆ 213       ┆ 847.0  ┆ 1177.05 ┆ 18              ┆ 72               │\n",
       "│ Daisy  ┆ PG1           ┆ 4140         ┆ 92        ┆ 803.0  ┆ 1201.75 ┆ 12              ┆ 24               │\n",
       "└────────┴───────────────┴──────────────┴───────────┴────────┴─────────┴─────────────────┴──────────────────┘"
      ]
     },
     "execution_count": 3,
     "metadata": {},
     "output_type": "execute_result"
    }
   ],
   "source": [
    "# pandas\n",
    "df_pd[df_pd[\"cost\"] > 750]\n",
    "\n",
    "# polars\n",
    "# The column to apply the condition is selected with the .col() method.\n",
    "df_pl.filter(pl.col(\"cost\") > 750)"
   ]
  },
  {
   "cell_type": "markdown",
   "id": "ca4852e9-81d3-4f03-a656-ff3f4d24f141",
   "metadata": {},
   "source": [
    "# Example 2: Multiple conditions\n",
    "Both pandas and polars support filtering by multiple conditions. We can combine the conditions with “and” and “or” logic.\n",
    "\n",
    "Let’s filter rows with a price of more than 750 and a store value of Violet."
   ]
  },
  {
   "cell_type": "code",
   "execution_count": 4,
   "id": "fd77a86c-9f07-4ae5-9ee1-cf7c3eec68a0",
   "metadata": {},
   "outputs": [
    {
     "data": {
      "text/html": [
       "<div><style>\n",
       ".dataframe > thead > tr,\n",
       ".dataframe > tbody > tr {\n",
       "  text-align: right;\n",
       "  white-space: pre-wrap;\n",
       "}\n",
       "</style>\n",
       "<small>shape: (2, 8)</small><table border=\"1\" class=\"dataframe\"><thead><tr><th>store</th><th>product_group</th><th>product_code</th><th>stock_qty</th><th>cost</th><th>price</th><th>last_week_sales</th><th>last_month_sales</th></tr><tr><td>str</td><td>str</td><td>i64</td><td>i64</td><td>f64</td><td>f64</td><td>i64</td><td>i64</td></tr></thead><tbody><tr><td>&quot;Violet&quot;</td><td>&quot;PG1&quot;</td><td>9692</td><td>68</td><td>1243.0</td><td>1500.05</td><td>26</td><td>94</td></tr><tr><td>&quot;Violet&quot;</td><td>&quot;PG1&quot;</td><td>7773</td><td>602</td><td>975.7</td><td>1325.16</td><td>19</td><td>60</td></tr></tbody></table></div>"
      ],
      "text/plain": [
       "shape: (2, 8)\n",
       "┌────────┬───────────────┬──────────────┬───────────┬────────┬─────────┬─────────────────┬──────────────────┐\n",
       "│ store  ┆ product_group ┆ product_code ┆ stock_qty ┆ cost   ┆ price   ┆ last_week_sales ┆ last_month_sales │\n",
       "│ ---    ┆ ---           ┆ ---          ┆ ---       ┆ ---    ┆ ---     ┆ ---             ┆ ---              │\n",
       "│ str    ┆ str           ┆ i64          ┆ i64       ┆ f64    ┆ f64     ┆ i64             ┆ i64              │\n",
       "╞════════╪═══════════════╪══════════════╪═══════════╪════════╪═════════╪═════════════════╪══════════════════╡\n",
       "│ Violet ┆ PG1           ┆ 9692         ┆ 68        ┆ 1243.0 ┆ 1500.05 ┆ 26              ┆ 94               │\n",
       "│ Violet ┆ PG1           ┆ 7773         ┆ 602       ┆ 975.7  ┆ 1325.16 ┆ 19              ┆ 60               │\n",
       "└────────┴───────────────┴──────────────┴───────────┴────────┴─────────┴─────────────────┴──────────────────┘"
      ]
     },
     "execution_count": 4,
     "metadata": {},
     "output_type": "execute_result"
    }
   ],
   "source": [
    "# pandas\n",
    "df_pd[(df_pd[\"cost\"] > 750) & (df_pd[\"store\"] == \"Violet\")]\n",
    "\n",
    "# polars\n",
    "df_pl.filter((pl.col(\"cost\") > 750) & (pl.col(\"store\") == \"Violet\"))  # all 8 columns are kept, only the rows are impacted"
   ]
  },
  {
   "cell_type": "markdown",
   "id": "5fc41bc5-1b09-4256-b0c9-7347ea71f4dd",
   "metadata": {},
   "source": [
    "# Example 3: The isin method\n",
    "- The isin method of pandas can be used for comparing the row value to a list of values.\n",
    "- It is quite useful when the condition consists of multiple values.\n",
    "- The polars version of this method is “is_in”.\n",
    "\n",
    "We can select the rows for product groups PG1, PG2, and PG3 as follows:"
   ]
  },
  {
   "cell_type": "code",
   "execution_count": 5,
   "id": "fd115694-4628-4ca0-ab29-03b0cf6f502c",
   "metadata": {},
   "outputs": [
    {
     "data": {
      "text/html": [
       "<div><style>\n",
       ".dataframe > thead > tr,\n",
       ".dataframe > tbody > tr {\n",
       "  text-align: right;\n",
       "  white-space: pre-wrap;\n",
       "}\n",
       "</style>\n",
       "<small>shape: (369, 8)</small><table border=\"1\" class=\"dataframe\"><thead><tr><th>store</th><th>product_group</th><th>product_code</th><th>stock_qty</th><th>cost</th><th>price</th><th>last_week_sales</th><th>last_month_sales</th></tr><tr><td>str</td><td>str</td><td>i64</td><td>i64</td><td>f64</td><td>f64</td><td>i64</td><td>i64</td></tr></thead><tbody><tr><td>&quot;Violet&quot;</td><td>&quot;PG2&quot;</td><td>4187</td><td>498</td><td>420.76</td><td>569.91</td><td>13</td><td>58</td></tr><tr><td>&quot;Rose&quot;</td><td>&quot;PG2&quot;</td><td>4195</td><td>473</td><td>545.64</td><td>712.41</td><td>16</td><td>58</td></tr><tr><td>&quot;Violet&quot;</td><td>&quot;PG2&quot;</td><td>4204</td><td>968</td><td>640.42</td><td>854.91</td><td>22</td><td>88</td></tr><tr><td>&quot;Daisy&quot;</td><td>&quot;PG2&quot;</td><td>4219</td><td>241</td><td>869.69</td><td>1034.55</td><td>14</td><td>45</td></tr><tr><td>&quot;Daisy&quot;</td><td>&quot;PG2&quot;</td><td>4718</td><td>1401</td><td>12.54</td><td>26.59</td><td>50</td><td>285</td></tr><tr><td>&hellip;</td><td>&hellip;</td><td>&hellip;</td><td>&hellip;</td><td>&hellip;</td><td>&hellip;</td><td>&hellip;</td><td>&hellip;</td></tr><tr><td>&quot;Violet&quot;</td><td>&quot;PG5&quot;</td><td>8298</td><td>2144</td><td>34.49</td><td>52.24</td><td>46</td><td>165</td></tr><tr><td>&quot;Violet&quot;</td><td>&quot;PG5&quot;</td><td>7715</td><td>4104542</td><td>6.82</td><td>7.6</td><td>3222</td><td>12353</td></tr><tr><td>&quot;Violet&quot;</td><td>&quot;PG2&quot;</td><td>952</td><td>5388</td><td>37.71</td><td>61.74</td><td>331</td><td>1041</td></tr><tr><td>&quot;Violet&quot;</td><td>&quot;PG2&quot;</td><td>1307</td><td>44996</td><td>31.44</td><td>42.74</td><td>1772</td><td>6394</td></tr><tr><td>&quot;Violet&quot;</td><td>&quot;PG5&quot;</td><td>3018</td><td>1697</td><td>4.68</td><td>18.99</td><td>19</td><td>52</td></tr></tbody></table></div>"
      ],
      "text/plain": [
       "shape: (369, 8)\n",
       "┌────────┬───────────────┬──────────────┬───────────┬────────┬─────────┬─────────────────┬──────────────────┐\n",
       "│ store  ┆ product_group ┆ product_code ┆ stock_qty ┆ cost   ┆ price   ┆ last_week_sales ┆ last_month_sales │\n",
       "│ ---    ┆ ---           ┆ ---          ┆ ---       ┆ ---    ┆ ---     ┆ ---             ┆ ---              │\n",
       "│ str    ┆ str           ┆ i64          ┆ i64       ┆ f64    ┆ f64     ┆ i64             ┆ i64              │\n",
       "╞════════╪═══════════════╪══════════════╪═══════════╪════════╪═════════╪═════════════════╪══════════════════╡\n",
       "│ Violet ┆ PG2           ┆ 4187         ┆ 498       ┆ 420.76 ┆ 569.91  ┆ 13              ┆ 58               │\n",
       "│ Rose   ┆ PG2           ┆ 4195         ┆ 473       ┆ 545.64 ┆ 712.41  ┆ 16              ┆ 58               │\n",
       "│ Violet ┆ PG2           ┆ 4204         ┆ 968       ┆ 640.42 ┆ 854.91  ┆ 22              ┆ 88               │\n",
       "│ Daisy  ┆ PG2           ┆ 4219         ┆ 241       ┆ 869.69 ┆ 1034.55 ┆ 14              ┆ 45               │\n",
       "│ Daisy  ┆ PG2           ┆ 4718         ┆ 1401      ┆ 12.54  ┆ 26.59   ┆ 50              ┆ 285              │\n",
       "│ …      ┆ …             ┆ …            ┆ …         ┆ …      ┆ …       ┆ …               ┆ …                │\n",
       "│ Violet ┆ PG5           ┆ 8298         ┆ 2144      ┆ 34.49  ┆ 52.24   ┆ 46              ┆ 165              │\n",
       "│ Violet ┆ PG5           ┆ 7715         ┆ 4104542   ┆ 6.82   ┆ 7.6     ┆ 3222            ┆ 12353            │\n",
       "│ Violet ┆ PG2           ┆ 952          ┆ 5388      ┆ 37.71  ┆ 61.74   ┆ 331             ┆ 1041             │\n",
       "│ Violet ┆ PG2           ┆ 1307         ┆ 44996     ┆ 31.44  ┆ 42.74   ┆ 1772            ┆ 6394             │\n",
       "│ Violet ┆ PG5           ┆ 3018         ┆ 1697      ┆ 4.68   ┆ 18.99   ┆ 19              ┆ 52               │\n",
       "└────────┴───────────────┴──────────────┴───────────┴────────┴─────────┴─────────────────┴──────────────────┘"
      ]
     },
     "execution_count": 5,
     "metadata": {},
     "output_type": "execute_result"
    }
   ],
   "source": [
    "# pandas\n",
    "df_pd[df_pd[\"product_group\"].isin([\"PG1\", \"PG2\", \"PG5\"])]\n",
    "\n",
    "# polars\n",
    "df_pl.filter(pl.col(\"product_group\").is_in([\"PG1\", \"PG2\", \"PG5\"]))"
   ]
  },
  {
   "cell_type": "markdown",
   "id": "a7c328ee-437c-465f-b199-eddd6b1a0fea",
   "metadata": {},
   "source": [
    "# Example 4: Select a subset of columns\n",
    "<b>NB: Unlike pl.filter()</b> which keeps all cols but may not return all rows, pl.select() without any other expressions, keeps all rows but only returns the selected columns.\n",
    "\n",
    "To select a subset of columns, we can pass a list of columns to both pandas and polars DataFrames as follows:"
   ]
  },
  {
   "cell_type": "code",
   "execution_count": 6,
   "id": "9f1ccdb7-152c-4e9f-aef5-397f50a61017",
   "metadata": {},
   "outputs": [
    {
     "data": {
      "text/plain": [
       "(1000, 8)"
      ]
     },
     "execution_count": 6,
     "metadata": {},
     "output_type": "execute_result"
    }
   ],
   "source": [
    "df_pl.shape"
   ]
  },
  {
   "cell_type": "code",
   "execution_count": 7,
   "id": "a2e67e4a-725e-4a5e-bca0-fbe08a965fcc",
   "metadata": {},
   "outputs": [
    {
     "data": {
      "text/html": [
       "<div><style>\n",
       ".dataframe > thead > tr,\n",
       ".dataframe > tbody > tr {\n",
       "  text-align: right;\n",
       "  white-space: pre-wrap;\n",
       "}\n",
       "</style>\n",
       "<small>shape: (1_000, 3)</small><table border=\"1\" class=\"dataframe\"><thead><tr><th>product_code</th><th>cost</th><th>price</th></tr><tr><td>i64</td><td>f64</td><td>f64</td></tr></thead><tbody><tr><td>4187</td><td>420.76</td><td>569.91</td></tr><tr><td>4195</td><td>545.64</td><td>712.41</td></tr><tr><td>4204</td><td>640.42</td><td>854.91</td></tr><tr><td>4219</td><td>869.69</td><td>1034.55</td></tr><tr><td>4718</td><td>12.54</td><td>26.59</td></tr><tr><td>&hellip;</td><td>&hellip;</td><td>&hellip;</td></tr><tr><td>8048</td><td>11.99</td><td>11.39</td></tr><tr><td>8050</td><td>1.32</td><td>3.32</td></tr><tr><td>952</td><td>37.71</td><td>61.74</td></tr><tr><td>1307</td><td>31.44</td><td>42.74</td></tr><tr><td>3018</td><td>4.68</td><td>18.99</td></tr></tbody></table></div>"
      ],
      "text/plain": [
       "shape: (1_000, 3)\n",
       "┌──────────────┬────────┬─────────┐\n",
       "│ product_code ┆ cost   ┆ price   │\n",
       "│ ---          ┆ ---    ┆ ---     │\n",
       "│ i64          ┆ f64    ┆ f64     │\n",
       "╞══════════════╪════════╪═════════╡\n",
       "│ 4187         ┆ 420.76 ┆ 569.91  │\n",
       "│ 4195         ┆ 545.64 ┆ 712.41  │\n",
       "│ 4204         ┆ 640.42 ┆ 854.91  │\n",
       "│ 4219         ┆ 869.69 ┆ 1034.55 │\n",
       "│ 4718         ┆ 12.54  ┆ 26.59   │\n",
       "│ …            ┆ …      ┆ …       │\n",
       "│ 8048         ┆ 11.99  ┆ 11.39   │\n",
       "│ 8050         ┆ 1.32   ┆ 3.32    │\n",
       "│ 952          ┆ 37.71  ┆ 61.74   │\n",
       "│ 1307         ┆ 31.44  ┆ 42.74   │\n",
       "│ 3018         ┆ 4.68   ┆ 18.99   │\n",
       "└──────────────┴────────┴─────────┘"
      ]
     },
     "execution_count": 7,
     "metadata": {},
     "output_type": "execute_result"
    }
   ],
   "source": [
    "cols = [\"product_code\", \"cost\", \"price\"]\n",
    "\n",
    "# pandas (both of the following do the job)\n",
    "df_pd[cols]\n",
    "df_pd.loc[:, cols]\n",
    "\n",
    "# polars\n",
    "df_pl.select(pl.col(cols))"
   ]
  },
  {
   "cell_type": "markdown",
   "id": "00aef864-2fda-4b9d-afb5-b6829d254b66",
   "metadata": {},
   "source": [
    "# Example 5: Select a subset of rows\n",
    "\n",
    "We can use the loc or iloc methods to select a subset of rows for pandas. In polars, we use a very similar approach."
   ]
  },
  {
   "cell_type": "raw",
   "id": "064c23cb-40be-4a2b-9567-05f6307b62b4",
   "metadata": {},
   "source": [
    "Here is a simple example that selects the rows between 10th and 20th:"
   ]
  },
  {
   "cell_type": "code",
   "execution_count": 8,
   "id": "baf569b1-168f-4a83-848a-f7d203539c2c",
   "metadata": {},
   "outputs": [
    {
     "data": {
      "text/html": [
       "<div><style>\n",
       ".dataframe > thead > tr,\n",
       ".dataframe > tbody > tr {\n",
       "  text-align: right;\n",
       "  white-space: pre-wrap;\n",
       "}\n",
       "</style>\n",
       "<small>shape: (10, 8)</small><table border=\"1\" class=\"dataframe\"><thead><tr><th>store</th><th>product_group</th><th>product_code</th><th>stock_qty</th><th>cost</th><th>price</th><th>last_week_sales</th><th>last_month_sales</th></tr><tr><td>str</td><td>str</td><td>i64</td><td>i64</td><td>f64</td><td>f64</td><td>i64</td><td>i64</td></tr></thead><tbody><tr><td>&quot;Violet&quot;</td><td>&quot;PG4&quot;</td><td>5649</td><td>360</td><td>6.26</td><td>13.29</td><td>32</td><td>79</td></tr><tr><td>&quot;Violet&quot;</td><td>&quot;PG2&quot;</td><td>4721</td><td>1379</td><td>13.17</td><td>30.39</td><td>47</td><td>264</td></tr><tr><td>&quot;Rose&quot;</td><td>&quot;PG2&quot;</td><td>4724</td><td>917</td><td>16.93</td><td>37.99</td><td>36</td><td>170</td></tr><tr><td>&quot;Violet&quot;</td><td>&quot;PG6&quot;</td><td>5684</td><td>2962</td><td>7.0</td><td>15.19</td><td>34</td><td>145</td></tr><tr><td>&quot;Daisy&quot;</td><td>&quot;PG4&quot;</td><td>5693</td><td>260</td><td>7.62</td><td>13.29</td><td>19</td><td>74</td></tr><tr><td>&quot;Violet&quot;</td><td>&quot;PG4&quot;</td><td>5694</td><td>251</td><td>7.62</td><td>13.29</td><td>28</td><td>107</td></tr><tr><td>&quot;Daisy&quot;</td><td>&quot;PG4&quot;</td><td>5696</td><td>260</td><td>7.62</td><td>13.29</td><td>29</td><td>98</td></tr><tr><td>&quot;Daisy&quot;</td><td>&quot;PG4&quot;</td><td>5697</td><td>237</td><td>8.23</td><td>13.29</td><td>25</td><td>98</td></tr><tr><td>&quot;Violet&quot;</td><td>&quot;PG4&quot;</td><td>5698</td><td>277</td><td>8.23</td><td>13.29</td><td>20</td><td>100</td></tr><tr><td>&quot;Daisy&quot;</td><td>&quot;PG6&quot;</td><td>5694</td><td>358</td><td>18.0</td><td>36.09</td><td>14</td><td>37</td></tr></tbody></table></div>"
      ],
      "text/plain": [
       "shape: (10, 8)\n",
       "┌────────┬───────────────┬──────────────┬───────────┬───────┬───────┬─────────────────┬──────────────────┐\n",
       "│ store  ┆ product_group ┆ product_code ┆ stock_qty ┆ cost  ┆ price ┆ last_week_sales ┆ last_month_sales │\n",
       "│ ---    ┆ ---           ┆ ---          ┆ ---       ┆ ---   ┆ ---   ┆ ---             ┆ ---              │\n",
       "│ str    ┆ str           ┆ i64          ┆ i64       ┆ f64   ┆ f64   ┆ i64             ┆ i64              │\n",
       "╞════════╪═══════════════╪══════════════╪═══════════╪═══════╪═══════╪═════════════════╪══════════════════╡\n",
       "│ Violet ┆ PG4           ┆ 5649         ┆ 360       ┆ 6.26  ┆ 13.29 ┆ 32              ┆ 79               │\n",
       "│ Violet ┆ PG2           ┆ 4721         ┆ 1379      ┆ 13.17 ┆ 30.39 ┆ 47              ┆ 264              │\n",
       "│ Rose   ┆ PG2           ┆ 4724         ┆ 917       ┆ 16.93 ┆ 37.99 ┆ 36              ┆ 170              │\n",
       "│ Violet ┆ PG6           ┆ 5684         ┆ 2962      ┆ 7.0   ┆ 15.19 ┆ 34              ┆ 145              │\n",
       "│ Daisy  ┆ PG4           ┆ 5693         ┆ 260       ┆ 7.62  ┆ 13.29 ┆ 19              ┆ 74               │\n",
       "│ Violet ┆ PG4           ┆ 5694         ┆ 251       ┆ 7.62  ┆ 13.29 ┆ 28              ┆ 107              │\n",
       "│ Daisy  ┆ PG4           ┆ 5696         ┆ 260       ┆ 7.62  ┆ 13.29 ┆ 29              ┆ 98               │\n",
       "│ Daisy  ┆ PG4           ┆ 5697         ┆ 237       ┆ 8.23  ┆ 13.29 ┆ 25              ┆ 98               │\n",
       "│ Violet ┆ PG4           ┆ 5698         ┆ 277       ┆ 8.23  ┆ 13.29 ┆ 20              ┆ 100              │\n",
       "│ Daisy  ┆ PG6           ┆ 5694         ┆ 358       ┆ 18.0  ┆ 36.09 ┆ 14              ┆ 37               │\n",
       "└────────┴───────────────┴──────────────┴───────────┴───────┴───────┴─────────────────┴──────────────────┘"
      ]
     },
     "execution_count": 8,
     "metadata": {},
     "output_type": "execute_result"
    }
   ],
   "source": [
    "# pandas\n",
    "df_pd.iloc[10:20]\n",
    "\n",
    "# polars\n",
    "df_pl[10:20]"
   ]
  },
  {
   "cell_type": "raw",
   "id": "35f335a2-dc70-42a1-b9f5-9829564363c0",
   "metadata": {},
   "source": [
    "To select the same rows but only the first three columns:"
   ]
  },
  {
   "cell_type": "code",
   "execution_count": 9,
   "id": "8a28ca38-b0ea-4b8a-9829-a36900f8a9f2",
   "metadata": {},
   "outputs": [
    {
     "data": {
      "text/html": [
       "<div><style>\n",
       ".dataframe > thead > tr,\n",
       ".dataframe > tbody > tr {\n",
       "  text-align: right;\n",
       "  white-space: pre-wrap;\n",
       "}\n",
       "</style>\n",
       "<small>shape: (10, 3)</small><table border=\"1\" class=\"dataframe\"><thead><tr><th>store</th><th>product_group</th><th>product_code</th></tr><tr><td>str</td><td>str</td><td>i64</td></tr></thead><tbody><tr><td>&quot;Violet&quot;</td><td>&quot;PG4&quot;</td><td>5649</td></tr><tr><td>&quot;Violet&quot;</td><td>&quot;PG2&quot;</td><td>4721</td></tr><tr><td>&quot;Rose&quot;</td><td>&quot;PG2&quot;</td><td>4724</td></tr><tr><td>&quot;Violet&quot;</td><td>&quot;PG6&quot;</td><td>5684</td></tr><tr><td>&quot;Daisy&quot;</td><td>&quot;PG4&quot;</td><td>5693</td></tr><tr><td>&quot;Violet&quot;</td><td>&quot;PG4&quot;</td><td>5694</td></tr><tr><td>&quot;Daisy&quot;</td><td>&quot;PG4&quot;</td><td>5696</td></tr><tr><td>&quot;Daisy&quot;</td><td>&quot;PG4&quot;</td><td>5697</td></tr><tr><td>&quot;Violet&quot;</td><td>&quot;PG4&quot;</td><td>5698</td></tr><tr><td>&quot;Daisy&quot;</td><td>&quot;PG6&quot;</td><td>5694</td></tr></tbody></table></div>"
      ],
      "text/plain": [
       "shape: (10, 3)\n",
       "┌────────┬───────────────┬──────────────┐\n",
       "│ store  ┆ product_group ┆ product_code │\n",
       "│ ---    ┆ ---           ┆ ---          │\n",
       "│ str    ┆ str           ┆ i64          │\n",
       "╞════════╪═══════════════╪══════════════╡\n",
       "│ Violet ┆ PG4           ┆ 5649         │\n",
       "│ Violet ┆ PG2           ┆ 4721         │\n",
       "│ Rose   ┆ PG2           ┆ 4724         │\n",
       "│ Violet ┆ PG6           ┆ 5684         │\n",
       "│ Daisy  ┆ PG4           ┆ 5693         │\n",
       "│ Violet ┆ PG4           ┆ 5694         │\n",
       "│ Daisy  ┆ PG4           ┆ 5696         │\n",
       "│ Daisy  ┆ PG4           ┆ 5697         │\n",
       "│ Violet ┆ PG4           ┆ 5698         │\n",
       "│ Daisy  ┆ PG6           ┆ 5694         │\n",
       "└────────┴───────────────┴──────────────┘"
      ]
     },
     "execution_count": 9,
     "metadata": {},
     "output_type": "execute_result"
    }
   ],
   "source": [
    "# pandas\n",
    "df_pd.iloc[10:20, :3]\n",
    "\n",
    "# polars\n",
    "df_pl[10:20, :3]"
   ]
  },
  {
   "cell_type": "raw",
   "id": "197b3d80-6c59-43a7-92fd-aa7bcfa31182",
   "metadata": {},
   "source": [
    "If we want to select columns by names, we can use the loc method in pandas which is unnecessary for Polars"
   ]
  },
  {
   "cell_type": "code",
   "execution_count": 10,
   "id": "e1a58665-c7fc-42c2-a390-fdb988de31e0",
   "metadata": {},
   "outputs": [
    {
     "data": {
      "text/html": [
       "<div><style>\n",
       ".dataframe > thead > tr,\n",
       ".dataframe > tbody > tr {\n",
       "  text-align: right;\n",
       "  white-space: pre-wrap;\n",
       "}\n",
       "</style>\n",
       "<small>shape: (10, 3)</small><table border=\"1\" class=\"dataframe\"><thead><tr><th>store</th><th>product_group</th><th>price</th></tr><tr><td>str</td><td>str</td><td>f64</td></tr></thead><tbody><tr><td>&quot;Violet&quot;</td><td>&quot;PG4&quot;</td><td>13.29</td></tr><tr><td>&quot;Violet&quot;</td><td>&quot;PG2&quot;</td><td>30.39</td></tr><tr><td>&quot;Rose&quot;</td><td>&quot;PG2&quot;</td><td>37.99</td></tr><tr><td>&quot;Violet&quot;</td><td>&quot;PG6&quot;</td><td>15.19</td></tr><tr><td>&quot;Daisy&quot;</td><td>&quot;PG4&quot;</td><td>13.29</td></tr><tr><td>&quot;Violet&quot;</td><td>&quot;PG4&quot;</td><td>13.29</td></tr><tr><td>&quot;Daisy&quot;</td><td>&quot;PG4&quot;</td><td>13.29</td></tr><tr><td>&quot;Daisy&quot;</td><td>&quot;PG4&quot;</td><td>13.29</td></tr><tr><td>&quot;Violet&quot;</td><td>&quot;PG4&quot;</td><td>13.29</td></tr><tr><td>&quot;Daisy&quot;</td><td>&quot;PG6&quot;</td><td>36.09</td></tr></tbody></table></div>"
      ],
      "text/plain": [
       "shape: (10, 3)\n",
       "┌────────┬───────────────┬───────┐\n",
       "│ store  ┆ product_group ┆ price │\n",
       "│ ---    ┆ ---           ┆ ---   │\n",
       "│ str    ┆ str           ┆ f64   │\n",
       "╞════════╪═══════════════╪═══════╡\n",
       "│ Violet ┆ PG4           ┆ 13.29 │\n",
       "│ Violet ┆ PG2           ┆ 30.39 │\n",
       "│ Rose   ┆ PG2           ┆ 37.99 │\n",
       "│ Violet ┆ PG6           ┆ 15.19 │\n",
       "│ Daisy  ┆ PG4           ┆ 13.29 │\n",
       "│ Violet ┆ PG4           ┆ 13.29 │\n",
       "│ Daisy  ┆ PG4           ┆ 13.29 │\n",
       "│ Daisy  ┆ PG4           ┆ 13.29 │\n",
       "│ Violet ┆ PG4           ┆ 13.29 │\n",
       "│ Daisy  ┆ PG6           ┆ 36.09 │\n",
       "└────────┴───────────────┴───────┘"
      ]
     },
     "execution_count": 10,
     "metadata": {},
     "output_type": "execute_result"
    }
   ],
   "source": [
    "# pandas\n",
    "df_pd.loc[10:20, [\"store\", \"product_group\", \"price\"]]\n",
    "\n",
    "# polars\n",
    "df_pl[10:20, [\"store\", \"product_group\", \"price\"]]"
   ]
  },
  {
   "cell_type": "markdown",
   "id": "24628b4a-7361-4145-9d43-6edb2e540c6f",
   "metadata": {},
   "source": [
    "# Example 6: Select columns by data type\n",
    "\n",
    "We can also select columns that are of a particular data type. <br>Let’s do an example that selects columns with 64 bit integer (i.e. int64) data type."
   ]
  },
  {
   "cell_type": "code",
   "execution_count": 11,
   "id": "05730654-3f68-49e6-941c-b10ac5aaf537",
   "metadata": {},
   "outputs": [
    {
     "data": {
      "text/html": [
       "<div><style>\n",
       ".dataframe > thead > tr,\n",
       ".dataframe > tbody > tr {\n",
       "  text-align: right;\n",
       "  white-space: pre-wrap;\n",
       "}\n",
       "</style>\n",
       "<small>shape: (1_000, 4)</small><table border=\"1\" class=\"dataframe\"><thead><tr><th>product_code</th><th>stock_qty</th><th>last_week_sales</th><th>last_month_sales</th></tr><tr><td>i64</td><td>i64</td><td>i64</td><td>i64</td></tr></thead><tbody><tr><td>4187</td><td>498</td><td>13</td><td>58</td></tr><tr><td>4195</td><td>473</td><td>16</td><td>58</td></tr><tr><td>4204</td><td>968</td><td>22</td><td>88</td></tr><tr><td>4219</td><td>241</td><td>14</td><td>45</td></tr><tr><td>4718</td><td>1401</td><td>50</td><td>285</td></tr><tr><td>&hellip;</td><td>&hellip;</td><td>&hellip;</td><td>&hellip;</td></tr><tr><td>8048</td><td>415</td><td>28</td><td>60</td></tr><tr><td>8050</td><td>-10</td><td>14</td><td>11</td></tr><tr><td>952</td><td>5388</td><td>331</td><td>1041</td></tr><tr><td>1307</td><td>44996</td><td>1772</td><td>6394</td></tr><tr><td>3018</td><td>1697</td><td>19</td><td>52</td></tr></tbody></table></div>"
      ],
      "text/plain": [
       "shape: (1_000, 4)\n",
       "┌──────────────┬───────────┬─────────────────┬──────────────────┐\n",
       "│ product_code ┆ stock_qty ┆ last_week_sales ┆ last_month_sales │\n",
       "│ ---          ┆ ---       ┆ ---             ┆ ---              │\n",
       "│ i64          ┆ i64       ┆ i64             ┆ i64              │\n",
       "╞══════════════╪═══════════╪═════════════════╪══════════════════╡\n",
       "│ 4187         ┆ 498       ┆ 13              ┆ 58               │\n",
       "│ 4195         ┆ 473       ┆ 16              ┆ 58               │\n",
       "│ 4204         ┆ 968       ┆ 22              ┆ 88               │\n",
       "│ 4219         ┆ 241       ┆ 14              ┆ 45               │\n",
       "│ 4718         ┆ 1401      ┆ 50              ┆ 285              │\n",
       "│ …            ┆ …         ┆ …               ┆ …                │\n",
       "│ 8048         ┆ 415       ┆ 28              ┆ 60               │\n",
       "│ 8050         ┆ -10       ┆ 14              ┆ 11               │\n",
       "│ 952          ┆ 5388      ┆ 331             ┆ 1041             │\n",
       "│ 1307         ┆ 44996     ┆ 1772            ┆ 6394             │\n",
       "│ 3018         ┆ 1697      ┆ 19              ┆ 52               │\n",
       "└──────────────┴───────────┴─────────────────┴──────────────────┘"
      ]
     },
     "execution_count": 11,
     "metadata": {},
     "output_type": "execute_result"
    }
   ],
   "source": [
    "# pandas\n",
    "df_pd.select_dtypes(include=\"int64\")\n",
    "\n",
    "# polars\n",
    "df_pl.select(pl.col(pl.Int64))"
   ]
  },
  {
   "cell_type": "markdown",
   "id": "16504118-cc57-4038-89fa-7d4ef7c8025d",
   "metadata": {},
   "source": [
    "# Example 7: Creating a New Column using .with_columns()\n",
    "The with_columns function creates a new column in Polars DataFrames. The new column can be derived from other columns such as extracting the year from a date value. We can do arithmetic operations including multiple columns, or simply create a column with a constant.\n",
    "\n",
    "<b>One thing to note here is that with_columns function can also be used for changing column data types.</b>\n",
    "\n",
    "Following code snippet shows how all these operations are done."
   ]
  },
  {
   "cell_type": "code",
   "execution_count": 12,
   "id": "58dbc70c-5c81-4ba0-a3a9-38f921fd10da",
   "metadata": {},
   "outputs": [
    {
     "data": {
      "text/html": [
       "<div><style>\n",
       ".dataframe > thead > tr,\n",
       ".dataframe > tbody > tr {\n",
       "  text-align: right;\n",
       "  white-space: pre-wrap;\n",
       "}\n",
       "</style>\n",
       "<small>shape: (5, 5)</small><table border=\"1\" class=\"dataframe\"><thead><tr><th>store_code</th><th>product_code</th><th>sales_date</th><th>sales_qty</th><th>sales_rev</th></tr><tr><td>str</td><td>i64</td><td>str</td><td>i64</td><td>f64</td></tr></thead><tbody><tr><td>&quot;B1&quot;</td><td>89909</td><td>&quot;2021-05-01&quot;</td><td>0</td><td>0.0</td></tr><tr><td>&quot;B1&quot;</td><td>89909</td><td>&quot;2021-05-02&quot;</td><td>0</td><td>0.0</td></tr><tr><td>&quot;B1&quot;</td><td>89909</td><td>&quot;2021-05-03&quot;</td><td>0</td><td>0.0</td></tr><tr><td>&quot;B1&quot;</td><td>89909</td><td>&quot;2021-05-04&quot;</td><td>0</td><td>0.0</td></tr><tr><td>&quot;B1&quot;</td><td>89909</td><td>&quot;2021-05-05&quot;</td><td>0</td><td>0.0</td></tr></tbody></table></div>"
      ],
      "text/plain": [
       "shape: (5, 5)\n",
       "┌────────────┬──────────────┬────────────┬───────────┬───────────┐\n",
       "│ store_code ┆ product_code ┆ sales_date ┆ sales_qty ┆ sales_rev │\n",
       "│ ---        ┆ ---          ┆ ---        ┆ ---       ┆ ---       │\n",
       "│ str        ┆ i64          ┆ str        ┆ i64       ┆ f64       │\n",
       "╞════════════╪══════════════╪════════════╪═══════════╪═══════════╡\n",
       "│ B1         ┆ 89909        ┆ 2021-05-01 ┆ 0         ┆ 0.0       │\n",
       "│ B1         ┆ 89909        ┆ 2021-05-02 ┆ 0         ┆ 0.0       │\n",
       "│ B1         ┆ 89909        ┆ 2021-05-03 ┆ 0         ┆ 0.0       │\n",
       "│ B1         ┆ 89909        ┆ 2021-05-04 ┆ 0         ┆ 0.0       │\n",
       "│ B1         ┆ 89909        ┆ 2021-05-05 ┆ 0         ┆ 0.0       │\n",
       "└────────────┴──────────────┴────────────┴───────────┴───────────┘"
      ]
     },
     "execution_count": 12,
     "metadata": {},
     "output_type": "execute_result"
    }
   ],
   "source": [
    "import polars as pl\n",
    "df_pl = pl.read_csv(\"datasets/data_polars_practicing.csv\")\n",
    "df_pl.head()"
   ]
  },
  {
   "cell_type": "code",
   "execution_count": 13,
   "id": "670f3f4a-e3a5-4536-85f8-98902a6460b4",
   "metadata": {},
   "outputs": [
    {
     "data": {
      "text/html": [
       "<div><style>\n",
       ".dataframe > thead > tr,\n",
       ".dataframe > tbody > tr {\n",
       "  text-align: right;\n",
       "  white-space: pre-wrap;\n",
       "}\n",
       "</style>\n",
       "<small>shape: (797, 5)</small><table border=\"1\" class=\"dataframe\"><thead><tr><th>store_code</th><th>product_code</th><th>sales_date</th><th>sales_qty</th><th>sales_rev</th></tr><tr><td>str</td><td>i64</td><td>str</td><td>i64</td><td>f64</td></tr></thead><tbody><tr><td>&quot;A2&quot;</td><td>89629</td><td>&quot;2021-06-15&quot;</td><td>1</td><td>319.0</td></tr><tr><td>&quot;A2&quot;</td><td>89631</td><td>&quot;2021-06-12&quot;</td><td>1</td><td>349.0</td></tr><tr><td>&quot;A2&quot;</td><td>89633</td><td>&quot;2021-07-07&quot;</td><td>1</td><td>217.0</td></tr><tr><td>&quot;A2&quot;</td><td>89635</td><td>&quot;2021-07-08&quot;</td><td>1</td><td>217.0</td></tr><tr><td>&quot;A2&quot;</td><td>89637</td><td>&quot;2021-06-22&quot;</td><td>1</td><td>349.0</td></tr><tr><td>&hellip;</td><td>&hellip;</td><td>&hellip;</td><td>&hellip;</td><td>&hellip;</td></tr><tr><td>&quot;A2&quot;</td><td>242194</td><td>&quot;2021-09-09&quot;</td><td>1</td><td>1395.0</td></tr><tr><td>&quot;A2&quot;</td><td>242194</td><td>&quot;2021-10-21&quot;</td><td>1</td><td>1211.45</td></tr><tr><td>&quot;A2&quot;</td><td>242194</td><td>&quot;2021-11-12&quot;</td><td>1</td><td>1240.0</td></tr><tr><td>&quot;A2&quot;</td><td>242196</td><td>&quot;2021-09-29&quot;</td><td>1</td><td>1550.0</td></tr><tr><td>&quot;A2&quot;</td><td>242196</td><td>&quot;2021-10-13&quot;</td><td>1</td><td>1233.54</td></tr></tbody></table></div>"
      ],
      "text/plain": [
       "shape: (797, 5)\n",
       "┌────────────┬──────────────┬────────────┬───────────┬───────────┐\n",
       "│ store_code ┆ product_code ┆ sales_date ┆ sales_qty ┆ sales_rev │\n",
       "│ ---        ┆ ---          ┆ ---        ┆ ---       ┆ ---       │\n",
       "│ str        ┆ i64          ┆ str        ┆ i64       ┆ f64       │\n",
       "╞════════════╪══════════════╪════════════╪═══════════╪═══════════╡\n",
       "│ A2         ┆ 89629        ┆ 2021-06-15 ┆ 1         ┆ 319.0     │\n",
       "│ A2         ┆ 89631        ┆ 2021-06-12 ┆ 1         ┆ 349.0     │\n",
       "│ A2         ┆ 89633        ┆ 2021-07-07 ┆ 1         ┆ 217.0     │\n",
       "│ A2         ┆ 89635        ┆ 2021-07-08 ┆ 1         ┆ 217.0     │\n",
       "│ A2         ┆ 89637        ┆ 2021-06-22 ┆ 1         ┆ 349.0     │\n",
       "│ …          ┆ …            ┆ …          ┆ …         ┆ …         │\n",
       "│ A2         ┆ 242194       ┆ 2021-09-09 ┆ 1         ┆ 1395.0    │\n",
       "│ A2         ┆ 242194       ┆ 2021-10-21 ┆ 1         ┆ 1211.45   │\n",
       "│ A2         ┆ 242194       ┆ 2021-11-12 ┆ 1         ┆ 1240.0    │\n",
       "│ A2         ┆ 242196       ┆ 2021-09-29 ┆ 1         ┆ 1550.0    │\n",
       "│ A2         ┆ 242196       ┆ 2021-10-13 ┆ 1         ┆ 1233.54   │\n",
       "└────────────┴──────────────┴────────────┴───────────┴───────────┘"
      ]
     },
     "execution_count": 13,
     "metadata": {},
     "output_type": "execute_result"
    }
   ],
   "source": [
    "# testing a multiple filter condition before using .with_columns\n",
    "# sales quantity is more than 0 and store code is A2\n",
    "df_pl.filter((pl.col(\"store_code\") == \"A2\") & (pl.col(\"sales_qty\") > 0))"
   ]
  },
  {
   "cell_type": "code",
   "execution_count": 14,
   "id": "a0abb215-dcf5-4308-8b1d-6c81db46d573",
   "metadata": {},
   "outputs": [
    {
     "data": {
      "text/html": [
       "<div><style>\n",
       ".dataframe > thead > tr,\n",
       ".dataframe > tbody > tr {\n",
       "  text-align: right;\n",
       "  white-space: pre-wrap;\n",
       "}\n",
       "</style>\n",
       "<small>shape: (608, 5)</small><table border=\"1\" class=\"dataframe\"><thead><tr><th>store_code</th><th>product_code</th><th>sales_date</th><th>sales_qty</th><th>sales_rev</th></tr><tr><td>str</td><td>i64</td><td>str</td><td>i64</td><td>f64</td></tr></thead><tbody><tr><td>&quot;B1&quot;</td><td>89909</td><td>&quot;2021-05-01&quot;</td><td>0</td><td>0.0</td></tr><tr><td>&quot;B1&quot;</td><td>89909</td><td>&quot;2021-05-02&quot;</td><td>0</td><td>0.0</td></tr><tr><td>&quot;B1&quot;</td><td>89909</td><td>&quot;2021-05-03&quot;</td><td>0</td><td>0.0</td></tr><tr><td>&quot;B1&quot;</td><td>89909</td><td>&quot;2021-05-04&quot;</td><td>0</td><td>0.0</td></tr><tr><td>&quot;B1&quot;</td><td>89909</td><td>&quot;2021-05-05&quot;</td><td>0</td><td>0.0</td></tr><tr><td>&hellip;</td><td>&hellip;</td><td>&hellip;</td><td>&hellip;</td><td>&hellip;</td></tr><tr><td>&quot;A1&quot;</td><td>89918</td><td>&quot;2021-07-04&quot;</td><td>0</td><td>0.0</td></tr><tr><td>&quot;A1&quot;</td><td>89918</td><td>&quot;2021-07-05&quot;</td><td>0</td><td>0.0</td></tr><tr><td>&quot;A1&quot;</td><td>89918</td><td>&quot;2021-07-06&quot;</td><td>0</td><td>0.0</td></tr><tr><td>&quot;A1&quot;</td><td>89918</td><td>&quot;2021-07-07&quot;</td><td>1</td><td>1950.0</td></tr><tr><td>&quot;A1&quot;</td><td>89918</td><td>&quot;2021-07-08&quot;</td><td>0</td><td>0.0</td></tr></tbody></table></div>"
      ],
      "text/plain": [
       "shape: (608, 5)\n",
       "┌────────────┬──────────────┬────────────┬───────────┬───────────┐\n",
       "│ store_code ┆ product_code ┆ sales_date ┆ sales_qty ┆ sales_rev │\n",
       "│ ---        ┆ ---          ┆ ---        ┆ ---       ┆ ---       │\n",
       "│ str        ┆ i64          ┆ str        ┆ i64       ┆ f64       │\n",
       "╞════════════╪══════════════╪════════════╪═══════════╪═══════════╡\n",
       "│ B1         ┆ 89909        ┆ 2021-05-01 ┆ 0         ┆ 0.0       │\n",
       "│ B1         ┆ 89909        ┆ 2021-05-02 ┆ 0         ┆ 0.0       │\n",
       "│ B1         ┆ 89909        ┆ 2021-05-03 ┆ 0         ┆ 0.0       │\n",
       "│ B1         ┆ 89909        ┆ 2021-05-04 ┆ 0         ┆ 0.0       │\n",
       "│ B1         ┆ 89909        ┆ 2021-05-05 ┆ 0         ┆ 0.0       │\n",
       "│ …          ┆ …            ┆ …          ┆ …         ┆ …         │\n",
       "│ A1         ┆ 89918        ┆ 2021-07-04 ┆ 0         ┆ 0.0       │\n",
       "│ A1         ┆ 89918        ┆ 2021-07-05 ┆ 0         ┆ 0.0       │\n",
       "│ A1         ┆ 89918        ┆ 2021-07-06 ┆ 0         ┆ 0.0       │\n",
       "│ A1         ┆ 89918        ┆ 2021-07-07 ┆ 1         ┆ 1950.0    │\n",
       "│ A1         ┆ 89918        ┆ 2021-07-08 ┆ 0         ┆ 0.0       │\n",
       "└────────────┴──────────────┴────────────┴───────────┴───────────┘"
      ]
     },
     "execution_count": 14,
     "metadata": {},
     "output_type": "execute_result"
    }
   ],
   "source": [
    "# product code is one of the following: 89909, 89912, 89915, 89918\n",
    "df_pl.filter(pl.col(\"product_code\").is_in([89909, 89912, 89915, 89918]))"
   ]
  },
  {
   "cell_type": "markdown",
   "id": "424c9244-6d63-4aaf-a000-95aadf4a4cd0",
   "metadata": {},
   "source": [
    "### .with_columns"
   ]
  },
  {
   "cell_type": "code",
   "execution_count": 15,
   "id": "79567c04-27fe-4a20-ad01-71f0c78ce92c",
   "metadata": {},
   "outputs": [
    {
     "data": {
      "text/html": [
       "<div><style>\n",
       ".dataframe > thead > tr,\n",
       ".dataframe > tbody > tr {\n",
       "  text-align: right;\n",
       "  white-space: pre-wrap;\n",
       "}\n",
       "</style>\n",
       "<small>shape: (3, 5)</small><table border=\"1\" class=\"dataframe\"><thead><tr><th>store_code</th><th>product_code</th><th>sales_date</th><th>sales_qty</th><th>sales_rev</th></tr><tr><td>str</td><td>i64</td><td>str</td><td>i64</td><td>f64</td></tr></thead><tbody><tr><td>&quot;B1&quot;</td><td>89909</td><td>&quot;2021-05-01&quot;</td><td>0</td><td>0.0</td></tr><tr><td>&quot;B1&quot;</td><td>89909</td><td>&quot;2021-05-02&quot;</td><td>0</td><td>0.0</td></tr><tr><td>&quot;B1&quot;</td><td>89909</td><td>&quot;2021-05-03&quot;</td><td>0</td><td>0.0</td></tr></tbody></table></div>"
      ],
      "text/plain": [
       "shape: (3, 5)\n",
       "┌────────────┬──────────────┬────────────┬───────────┬───────────┐\n",
       "│ store_code ┆ product_code ┆ sales_date ┆ sales_qty ┆ sales_rev │\n",
       "│ ---        ┆ ---          ┆ ---        ┆ ---       ┆ ---       │\n",
       "│ str        ┆ i64          ┆ str        ┆ i64       ┆ f64       │\n",
       "╞════════════╪══════════════╪════════════╪═══════════╪═══════════╡\n",
       "│ B1         ┆ 89909        ┆ 2021-05-01 ┆ 0         ┆ 0.0       │\n",
       "│ B1         ┆ 89909        ┆ 2021-05-02 ┆ 0         ┆ 0.0       │\n",
       "│ B1         ┆ 89909        ┆ 2021-05-03 ┆ 0         ┆ 0.0       │\n",
       "└────────────┴──────────────┴────────────┴───────────┴───────────┘"
      ]
     },
     "execution_count": 15,
     "metadata": {},
     "output_type": "execute_result"
    }
   ],
   "source": [
    "df_pl.head(3)"
   ]
  },
  {
   "cell_type": "code",
   "execution_count": 16,
   "id": "d2656803-b240-4654-94fa-5d5e025d3848",
   "metadata": {},
   "outputs": [
    {
     "data": {
      "text/html": [
       "<div><style>\n",
       ".dataframe > thead > tr,\n",
       ".dataframe > tbody > tr {\n",
       "  text-align: right;\n",
       "  white-space: pre-wrap;\n",
       "}\n",
       "</style>\n",
       "<small>shape: (3, 5)</small><table border=\"1\" class=\"dataframe\"><thead><tr><th>store_code</th><th>product_code</th><th>sales_date</th><th>sales_qty</th><th>sales_rev</th></tr><tr><td>str</td><td>i64</td><td>date</td><td>i64</td><td>f64</td></tr></thead><tbody><tr><td>&quot;B1&quot;</td><td>89909</td><td>2021-05-01</td><td>0</td><td>0.0</td></tr><tr><td>&quot;B1&quot;</td><td>89909</td><td>2021-05-02</td><td>0</td><td>0.0</td></tr><tr><td>&quot;B1&quot;</td><td>89909</td><td>2021-05-03</td><td>0</td><td>0.0</td></tr></tbody></table></div>"
      ],
      "text/plain": [
       "shape: (3, 5)\n",
       "┌────────────┬──────────────┬────────────┬───────────┬───────────┐\n",
       "│ store_code ┆ product_code ┆ sales_date ┆ sales_qty ┆ sales_rev │\n",
       "│ ---        ┆ ---          ┆ ---        ┆ ---       ┆ ---       │\n",
       "│ str        ┆ i64          ┆ date       ┆ i64       ┆ f64       │\n",
       "╞════════════╪══════════════╪════════════╪═══════════╪═══════════╡\n",
       "│ B1         ┆ 89909        ┆ 2021-05-01 ┆ 0         ┆ 0.0       │\n",
       "│ B1         ┆ 89909        ┆ 2021-05-02 ┆ 0         ┆ 0.0       │\n",
       "│ B1         ┆ 89909        ┆ 2021-05-03 ┆ 0         ┆ 0.0       │\n",
       "└────────────┴──────────────┴────────────┴───────────┴───────────┘"
      ]
     },
     "execution_count": 16,
     "metadata": {},
     "output_type": "execute_result"
    }
   ],
   "source": [
    "# change the data type of sales date from string to date\n",
    "df_pl = df_pl.with_columns(pl.col(\"sales_date\").str.to_date())\n",
    "df_pl.head(3)"
   ]
  },
  {
   "cell_type": "code",
   "execution_count": 17,
   "id": "82b4b2c3-3d57-44f0-aef0-c6a647110fcd",
   "metadata": {},
   "outputs": [
    {
     "data": {
      "text/html": [
       "<div><style>\n",
       ".dataframe > thead > tr,\n",
       ".dataframe > tbody > tr {\n",
       "  text-align: right;\n",
       "  white-space: pre-wrap;\n",
       "}\n",
       "</style>\n",
       "<small>shape: (3, 6)</small><table border=\"1\" class=\"dataframe\"><thead><tr><th>store_code</th><th>product_code</th><th>sales_date</th><th>sales_qty</th><th>sales_rev</th><th>year</th></tr><tr><td>str</td><td>i64</td><td>date</td><td>i64</td><td>f64</td><td>i32</td></tr></thead><tbody><tr><td>&quot;B1&quot;</td><td>89909</td><td>2021-05-01</td><td>0</td><td>0.0</td><td>2021</td></tr><tr><td>&quot;B1&quot;</td><td>89909</td><td>2021-05-02</td><td>0</td><td>0.0</td><td>2021</td></tr><tr><td>&quot;B1&quot;</td><td>89909</td><td>2021-05-03</td><td>0</td><td>0.0</td><td>2021</td></tr></tbody></table></div>"
      ],
      "text/plain": [
       "shape: (3, 6)\n",
       "┌────────────┬──────────────┬────────────┬───────────┬───────────┬──────┐\n",
       "│ store_code ┆ product_code ┆ sales_date ┆ sales_qty ┆ sales_rev ┆ year │\n",
       "│ ---        ┆ ---          ┆ ---        ┆ ---       ┆ ---       ┆ ---  │\n",
       "│ str        ┆ i64          ┆ date       ┆ i64       ┆ f64       ┆ i32  │\n",
       "╞════════════╪══════════════╪════════════╪═══════════╪═══════════╪══════╡\n",
       "│ B1         ┆ 89909        ┆ 2021-05-01 ┆ 0         ┆ 0.0       ┆ 2021 │\n",
       "│ B1         ┆ 89909        ┆ 2021-05-02 ┆ 0         ┆ 0.0       ┆ 2021 │\n",
       "│ B1         ┆ 89909        ┆ 2021-05-03 ┆ 0         ┆ 0.0       ┆ 2021 │\n",
       "└────────────┴──────────────┴────────────┴───────────┴───────────┴──────┘"
      ]
     },
     "execution_count": 17,
     "metadata": {},
     "output_type": "execute_result"
    }
   ],
   "source": [
    "# create year column by extracting year from date column\n",
    "df_pl = df_pl.with_columns(pl.col(\"sales_date\").dt.year().alias(\"year\"))\n",
    "df_pl.head(3)                          "
   ]
  },
  {
   "cell_type": "code",
   "execution_count": 18,
   "id": "b466c17c-db95-44a6-97bb-259515a0fd4b",
   "metadata": {},
   "outputs": [
    {
     "data": {
      "text/html": [
       "<div><style>\n",
       ".dataframe > thead > tr,\n",
       ".dataframe > tbody > tr {\n",
       "  text-align: right;\n",
       "  white-space: pre-wrap;\n",
       "}\n",
       "</style>\n",
       "<small>shape: (3, 7)</small><table border=\"1\" class=\"dataframe\"><thead><tr><th>store_code</th><th>product_code</th><th>sales_date</th><th>sales_qty</th><th>sales_rev</th><th>year</th><th>price</th></tr><tr><td>str</td><td>i64</td><td>date</td><td>i64</td><td>f64</td><td>i32</td><td>f64</td></tr></thead><tbody><tr><td>&quot;B1&quot;</td><td>89909</td><td>2021-05-01</td><td>0</td><td>0.0</td><td>2021</td><td>NaN</td></tr><tr><td>&quot;B1&quot;</td><td>89909</td><td>2021-05-02</td><td>0</td><td>0.0</td><td>2021</td><td>NaN</td></tr><tr><td>&quot;B1&quot;</td><td>89909</td><td>2021-05-03</td><td>0</td><td>0.0</td><td>2021</td><td>NaN</td></tr></tbody></table></div>"
      ],
      "text/plain": [
       "shape: (3, 7)\n",
       "┌────────────┬──────────────┬────────────┬───────────┬───────────┬──────┬───────┐\n",
       "│ store_code ┆ product_code ┆ sales_date ┆ sales_qty ┆ sales_rev ┆ year ┆ price │\n",
       "│ ---        ┆ ---          ┆ ---        ┆ ---       ┆ ---       ┆ ---  ┆ ---   │\n",
       "│ str        ┆ i64          ┆ date       ┆ i64       ┆ f64       ┆ i32  ┆ f64   │\n",
       "╞════════════╪══════════════╪════════════╪═══════════╪═══════════╪══════╪═══════╡\n",
       "│ B1         ┆ 89909        ┆ 2021-05-01 ┆ 0         ┆ 0.0       ┆ 2021 ┆ NaN   │\n",
       "│ B1         ┆ 89909        ┆ 2021-05-02 ┆ 0         ┆ 0.0       ┆ 2021 ┆ NaN   │\n",
       "│ B1         ┆ 89909        ┆ 2021-05-03 ┆ 0         ┆ 0.0       ┆ 2021 ┆ NaN   │\n",
       "└────────────┴──────────────┴────────────┴───────────┴───────────┴──────┴───────┘"
      ]
     },
     "execution_count": 18,
     "metadata": {},
     "output_type": "execute_result"
    }
   ],
   "source": [
    "# create price column by dividing sales revenue by sales quantity\n",
    "df_pl = df_pl.with_columns((pl.col(\"sales_rev\") / pl.col(\"sales_qty\")).alias(\"price\"))\n",
    "df_pl.head(3)"
   ]
  },
  {
   "cell_type": "code",
   "execution_count": 19,
   "id": "34b68326-eec3-4653-b047-e2ce8cbe8911",
   "metadata": {},
   "outputs": [
    {
     "data": {
      "text/html": [
       "<div><style>\n",
       ".dataframe > thead > tr,\n",
       ".dataframe > tbody > tr {\n",
       "  text-align: right;\n",
       "  white-space: pre-wrap;\n",
       "}\n",
       "</style>\n",
       "<small>shape: (3, 9)</small><table border=\"1\" class=\"dataframe\"><thead><tr><th>store_code</th><th>product_code</th><th>sales_date</th><th>sales_qty</th><th>sales_rev</th><th>year</th><th>price</th><th>dummy_column</th><th>dummy_column_2</th></tr><tr><td>str</td><td>i64</td><td>date</td><td>i64</td><td>f64</td><td>i32</td><td>f64</td><td>i32</td><td>str</td></tr></thead><tbody><tr><td>&quot;B1&quot;</td><td>89909</td><td>2021-05-01</td><td>0</td><td>0.0</td><td>2021</td><td>NaN</td><td>0</td><td>&quot;apple_seed&quot;</td></tr><tr><td>&quot;B1&quot;</td><td>89909</td><td>2021-05-02</td><td>0</td><td>0.0</td><td>2021</td><td>NaN</td><td>0</td><td>&quot;apple_seed&quot;</td></tr><tr><td>&quot;B1&quot;</td><td>89909</td><td>2021-05-03</td><td>0</td><td>0.0</td><td>2021</td><td>NaN</td><td>0</td><td>&quot;apple_seed&quot;</td></tr></tbody></table></div>"
      ],
      "text/plain": [
       "shape: (3, 9)\n",
       "┌────────────┬──────────────┬────────────┬───────────┬───┬──────┬───────┬──────────────┬────────────────┐\n",
       "│ store_code ┆ product_code ┆ sales_date ┆ sales_qty ┆ … ┆ year ┆ price ┆ dummy_column ┆ dummy_column_2 │\n",
       "│ ---        ┆ ---          ┆ ---        ┆ ---       ┆   ┆ ---  ┆ ---   ┆ ---          ┆ ---            │\n",
       "│ str        ┆ i64          ┆ date       ┆ i64       ┆   ┆ i32  ┆ f64   ┆ i32          ┆ str            │\n",
       "╞════════════╪══════════════╪════════════╪═══════════╪═══╪══════╪═══════╪══════════════╪════════════════╡\n",
       "│ B1         ┆ 89909        ┆ 2021-05-01 ┆ 0         ┆ … ┆ 2021 ┆ NaN   ┆ 0            ┆ apple_seed     │\n",
       "│ B1         ┆ 89909        ┆ 2021-05-02 ┆ 0         ┆ … ┆ 2021 ┆ NaN   ┆ 0            ┆ apple_seed     │\n",
       "│ B1         ┆ 89909        ┆ 2021-05-03 ┆ 0         ┆ … ┆ 2021 ┆ NaN   ┆ 0            ┆ apple_seed     │\n",
       "└────────────┴──────────────┴────────────┴───────────┴───┴──────┴───────┴──────────────┴────────────────┘"
      ]
     },
     "execution_count": 19,
     "metadata": {},
     "output_type": "execute_result"
    }
   ],
   "source": [
    "# create a column with a constant value\n",
    "df_pl = df_pl.with_columns(pl.lit(0).alias(\"dummy_column\"))\n",
    "df_pl = df_pl.with_columns(pl.lit('apple_seed').alias(\"dummy_column_2\"))\n",
    "df_pl.head(3)"
   ]
  },
  {
   "cell_type": "raw",
   "id": "100c8918-465c-4c71-8728-064dc0f126bd",
   "metadata": {},
   "source": [
    "in pandas, it is done like this:\n",
    "# Pandas\n",
    "\n",
    "# change the data type of sales date from string to date\n",
    "df_pd = df_pd.astype({\"sales_date\": \"datetime64[ns]\"})\n",
    "\n",
    "# create year column by extracting year from date column\n",
    "df_pd.loc[:, \"year\"] = df_pd.loc[:, \"sales_date\"].dt.year\n",
    "\n",
    "# create price column by dividing sales revenue by sales quantity\n",
    "df_pd.loc[:, \"price\"] = df_pd.loc[:, \"sales_rev\"] / df_pd.loc[:, \"sales_rev\"]\n",
    "\n",
    "# create a column with a constant value\n",
    "df_pd.loc[:, \"dummy_column\"] = 0"
   ]
  },
  {
   "cell_type": "markdown",
   "id": "d9bf4b83-0e82-48bd-8672-b974ce61c0c8",
   "metadata": {},
   "source": [
    "# Group by\n",
    "The group_by function groups the rows based on the distinct values in a given column or columns. Then, we can calculate several different aggregations on each group such as mean, max, min, sum, and so on.\n",
    "\n",
    "Following code snippet shows some different groupings and aggregations done on our DataFrame."
   ]
  },
  {
   "cell_type": "code",
   "execution_count": 20,
   "id": "db029d37-1b86-4e86-92d9-90fbf5a3b894",
   "metadata": {},
   "outputs": [
    {
     "data": {
      "text/html": [
       "<div><style>\n",
       ".dataframe > thead > tr,\n",
       ".dataframe > tbody > tr {\n",
       "  text-align: right;\n",
       "  white-space: pre-wrap;\n",
       "}\n",
       "</style>\n",
       "<small>shape: (5, 9)</small><table border=\"1\" class=\"dataframe\"><thead><tr><th>store_code</th><th>product_code</th><th>sales_date</th><th>sales_qty</th><th>sales_rev</th><th>year</th><th>price</th><th>dummy_column</th><th>dummy_column_2</th></tr><tr><td>str</td><td>i64</td><td>date</td><td>i64</td><td>f64</td><td>i32</td><td>f64</td><td>i32</td><td>str</td></tr></thead><tbody><tr><td>&quot;B1&quot;</td><td>89909</td><td>2021-05-01</td><td>0</td><td>0.0</td><td>2021</td><td>NaN</td><td>0</td><td>&quot;apple_seed&quot;</td></tr><tr><td>&quot;B1&quot;</td><td>89909</td><td>2021-05-02</td><td>0</td><td>0.0</td><td>2021</td><td>NaN</td><td>0</td><td>&quot;apple_seed&quot;</td></tr><tr><td>&quot;B1&quot;</td><td>89909</td><td>2021-05-03</td><td>0</td><td>0.0</td><td>2021</td><td>NaN</td><td>0</td><td>&quot;apple_seed&quot;</td></tr><tr><td>&quot;B1&quot;</td><td>89909</td><td>2021-05-04</td><td>0</td><td>0.0</td><td>2021</td><td>NaN</td><td>0</td><td>&quot;apple_seed&quot;</td></tr><tr><td>&quot;B1&quot;</td><td>89909</td><td>2021-05-05</td><td>0</td><td>0.0</td><td>2021</td><td>NaN</td><td>0</td><td>&quot;apple_seed&quot;</td></tr></tbody></table></div>"
      ],
      "text/plain": [
       "shape: (5, 9)\n",
       "┌────────────┬──────────────┬────────────┬───────────┬───┬──────┬───────┬──────────────┬────────────────┐\n",
       "│ store_code ┆ product_code ┆ sales_date ┆ sales_qty ┆ … ┆ year ┆ price ┆ dummy_column ┆ dummy_column_2 │\n",
       "│ ---        ┆ ---          ┆ ---        ┆ ---       ┆   ┆ ---  ┆ ---   ┆ ---          ┆ ---            │\n",
       "│ str        ┆ i64          ┆ date       ┆ i64       ┆   ┆ i32  ┆ f64   ┆ i32          ┆ str            │\n",
       "╞════════════╪══════════════╪════════════╪═══════════╪═══╪══════╪═══════╪══════════════╪════════════════╡\n",
       "│ B1         ┆ 89909        ┆ 2021-05-01 ┆ 0         ┆ … ┆ 2021 ┆ NaN   ┆ 0            ┆ apple_seed     │\n",
       "│ B1         ┆ 89909        ┆ 2021-05-02 ┆ 0         ┆ … ┆ 2021 ┆ NaN   ┆ 0            ┆ apple_seed     │\n",
       "│ B1         ┆ 89909        ┆ 2021-05-03 ┆ 0         ┆ … ┆ 2021 ┆ NaN   ┆ 0            ┆ apple_seed     │\n",
       "│ B1         ┆ 89909        ┆ 2021-05-04 ┆ 0         ┆ … ┆ 2021 ┆ NaN   ┆ 0            ┆ apple_seed     │\n",
       "│ B1         ┆ 89909        ┆ 2021-05-05 ┆ 0         ┆ … ┆ 2021 ┆ NaN   ┆ 0            ┆ apple_seed     │\n",
       "└────────────┴──────────────┴────────────┴───────────┴───┴──────┴───────┴──────────────┴────────────────┘"
      ]
     },
     "execution_count": 20,
     "metadata": {},
     "output_type": "execute_result"
    }
   ],
   "source": [
    "df_pl.head()"
   ]
  },
  {
   "cell_type": "raw",
   "id": "7810df43-7818-4944-ab3b-69732895c4d8",
   "metadata": {},
   "source": [
    "notes: The df above already has sales_date in vertical form. \n",
    "so if my dates are wide, I should melt it first before doing a group_by (like below) ?"
   ]
  },
  {
   "cell_type": "code",
   "execution_count": 21,
   "id": "a3342d3d-b5ac-4ce9-8abc-c82229ada70c",
   "metadata": {},
   "outputs": [
    {
     "data": {
      "text/html": [
       "<div><style>\n",
       ".dataframe > thead > tr,\n",
       ".dataframe > tbody > tr {\n",
       "  text-align: right;\n",
       "  white-space: pre-wrap;\n",
       "}\n",
       "</style>\n",
       "<small>shape: (4, 3)</small><table border=\"1\" class=\"dataframe\"><thead><tr><th>store_code</th><th>total_sales</th><th>avg_sales</th></tr><tr><td>str</td><td>i64</td><td>f64</td></tr></thead><tbody><tr><td>&quot;A1&quot;</td><td>590</td><td>0.011261</td></tr><tr><td>&quot;B1&quot;</td><td>561</td><td>0.011152</td></tr><tr><td>&quot;A2&quot;</td><td>787</td><td>0.013982</td></tr><tr><td>&quot;B2&quot;</td><td>399</td><td>0.007207</td></tr></tbody></table></div>"
      ],
      "text/plain": [
       "shape: (4, 3)\n",
       "┌────────────┬─────────────┬───────────┐\n",
       "│ store_code ┆ total_sales ┆ avg_sales │\n",
       "│ ---        ┆ ---         ┆ ---       │\n",
       "│ str        ┆ i64         ┆ f64       │\n",
       "╞════════════╪═════════════╪═══════════╡\n",
       "│ A1         ┆ 590         ┆ 0.011261  │\n",
       "│ B1         ┆ 561         ┆ 0.011152  │\n",
       "│ A2         ┆ 787         ┆ 0.013982  │\n",
       "│ B2         ┆ 399         ┆ 0.007207  │\n",
       "└────────────┴─────────────┴───────────┘"
      ]
     },
     "execution_count": 21,
     "metadata": {},
     "output_type": "execute_result"
    }
   ],
   "source": [
    "# calculate total and average sales for each store\n",
    "df_pl.group_by([\"store_code\"]).agg(\n",
    "    pl.sum(\"sales_qty\").alias(\"total_sales\"),\n",
    "    pl.mean(\"sales_qty\").alias(\"avg_sales\")\n",
    ")"
   ]
  },
  {
   "cell_type": "code",
   "execution_count": 22,
   "id": "a62884f0-a428-4f96-8ef1-dfc66f3c4b0a",
   "metadata": {},
   "outputs": [
    {
     "data": {
      "text/html": [
       "<div><style>\n",
       ".dataframe > thead > tr,\n",
       ".dataframe > tbody > tr {\n",
       "  text-align: right;\n",
       "  white-space: pre-wrap;\n",
       "}\n",
       "</style>\n",
       "<small>shape: (4, 4)</small><table border=\"1\" class=\"dataframe\"><thead><tr><th>store_code</th><th>year</th><th>total_sales</th><th>avg_sales</th></tr><tr><td>str</td><td>i32</td><td>i64</td><td>f64</td></tr></thead><tbody><tr><td>&quot;A1&quot;</td><td>2021</td><td>590</td><td>0.011261</td></tr><tr><td>&quot;A2&quot;</td><td>2021</td><td>787</td><td>0.013982</td></tr><tr><td>&quot;B1&quot;</td><td>2021</td><td>561</td><td>0.011152</td></tr><tr><td>&quot;B2&quot;</td><td>2021</td><td>399</td><td>0.007207</td></tr></tbody></table></div>"
      ],
      "text/plain": [
       "shape: (4, 4)\n",
       "┌────────────┬──────┬─────────────┬───────────┐\n",
       "│ store_code ┆ year ┆ total_sales ┆ avg_sales │\n",
       "│ ---        ┆ ---  ┆ ---         ┆ ---       │\n",
       "│ str        ┆ i32  ┆ i64         ┆ f64       │\n",
       "╞════════════╪══════╪═════════════╪═══════════╡\n",
       "│ A1         ┆ 2021 ┆ 590         ┆ 0.011261  │\n",
       "│ A2         ┆ 2021 ┆ 787         ┆ 0.013982  │\n",
       "│ B1         ┆ 2021 ┆ 561         ┆ 0.011152  │\n",
       "│ B2         ┆ 2021 ┆ 399         ┆ 0.007207  │\n",
       "└────────────┴──────┴─────────────┴───────────┘"
      ]
     },
     "execution_count": 22,
     "metadata": {},
     "output_type": "execute_result"
    }
   ],
   "source": [
    "# calculate total and average sales for each store-year pair\n",
    "df_pl.group_by([\"store_code\", \"year\"]).agg(\n",
    "    pl.sum(\"sales_qty\").alias(\"total_sales\"),\n",
    "    pl.mean(\"sales_qty\").alias(\"avg_sales\")\n",
    ").sort(by=['store_code', 'year'])"
   ]
  },
  {
   "cell_type": "code",
   "execution_count": 23,
   "id": "9a68d9a5-7e5f-47ed-9c96-a1e16ac97211",
   "metadata": {},
   "outputs": [
    {
     "data": {
      "text/html": [
       "<div><style>\n",
       ".dataframe > thead > tr,\n",
       ".dataframe > tbody > tr {\n",
       "  text-align: right;\n",
       "  white-space: pre-wrap;\n",
       "}\n",
       "</style>\n",
       "<small>shape: (1_244, 3)</small><table border=\"1\" class=\"dataframe\"><thead><tr><th>product_code</th><th>unique_day_count</th><th>lifetime</th></tr><tr><td>i64</td><td>u32</td><td>i64</td></tr></thead><tbody><tr><td>241083</td><td>72</td><td>72</td></tr><tr><td>109853</td><td>107</td><td>107</td></tr><tr><td>92174</td><td>57</td><td>57</td></tr><tr><td>109061</td><td>71</td><td>71</td></tr><tr><td>119547</td><td>97</td><td>97</td></tr><tr><td>&hellip;</td><td>&hellip;</td><td>&hellip;</td></tr><tr><td>110612</td><td>63</td><td>63</td></tr><tr><td>230942</td><td>62</td><td>62</td></tr><tr><td>196867</td><td>208</td><td>208</td></tr><tr><td>229492</td><td>72</td><td>72</td></tr><tr><td>230421</td><td>99</td><td>99</td></tr></tbody></table></div>"
      ],
      "text/plain": [
       "shape: (1_244, 3)\n",
       "┌──────────────┬──────────────────┬──────────┐\n",
       "│ product_code ┆ unique_day_count ┆ lifetime │\n",
       "│ ---          ┆ ---              ┆ ---      │\n",
       "│ i64          ┆ u32              ┆ i64      │\n",
       "╞══════════════╪══════════════════╪══════════╡\n",
       "│ 241083       ┆ 72               ┆ 72       │\n",
       "│ 109853       ┆ 107              ┆ 107      │\n",
       "│ 92174        ┆ 57               ┆ 57       │\n",
       "│ 109061       ┆ 71               ┆ 71       │\n",
       "│ 119547       ┆ 97               ┆ 97       │\n",
       "│ …            ┆ …                ┆ …        │\n",
       "│ 110612       ┆ 63               ┆ 63       │\n",
       "│ 230942       ┆ 62               ┆ 62       │\n",
       "│ 196867       ┆ 208              ┆ 208      │\n",
       "│ 229492       ┆ 72               ┆ 72       │\n",
       "│ 230421       ┆ 99               ┆ 99       │\n",
       "└──────────────┴──────────────────┴──────────┘"
      ]
     },
     "execution_count": 23,
     "metadata": {},
     "output_type": "execute_result"
    }
   ],
   "source": [
    "# create product lifetime and unique day count for each product\n",
    "\"\"\"\n",
    "we calculate the product lifetime by grouping the rows by product and finding the difference between the minimum and maximum dates \n",
    "for each group (i.e. product).\"\"\"\n",
    "\n",
    "df_pl.group_by([\"product_code\"]).agg(\n",
    "    [\n",
    "        pl.n_unique(\"sales_date\").alias(\"unique_day_count\"),\n",
    "        ((pl.max(\"sales_date\") - pl.min(\"sales_date\")).dt.total_days() + 1).alias(\"lifetime\")\n",
    "    ]\n",
    ")"
   ]
  },
  {
   "cell_type": "raw",
   "id": "323c76b1-2492-4c25-98ef-d09a27fa5b3d",
   "metadata": {},
   "source": [
    "# Pandas\n",
    "\n",
    "# calculate total and average sales for each store\n",
    "df_pd.groupby([\"store_code\"], as_index=False).agg(\n",
    "    total_sales = (\"sales_qty\", \"sum\"),\n",
    "    avg_sales = (\"sales_qty\", \"mean\")\n",
    ")\n",
    "\n",
    "# calculate total and average sales for each store-year pair\n",
    "df_pd.groupby([\"store_code\",\"year\"], as_index=False).agg(\n",
    "    total_sales = (\"sales_qty\", \"sum\"),\n",
    "    avg_sales = (\"sales_qty\", \"mean\")\n",
    ")\n",
    "\n",
    "# create product lifetime and unique day count for each product\n",
    "df_pd.groupby([\"product_code\"], as_index=False).agg(\n",
    "    unique_day_count = (\"sales_date\", \"nunique\"),\n",
    "    lifetime = (\"sales_date\", lambda x: (x.max() - x.min()).days + 1)\n",
    ")\n",
    "\n",
    "In Pandas, we can pass the aggregate function names as string if it’s a built-in function. Or, we can write a custom aggregation (e.g. calculating product lifetime) using lambda functions."
   ]
  },
  {
   "cell_type": "markdown",
   "id": "2f8a9999-a0ae-4427-b85e-9afdcb6ba6e9",
   "metadata": {},
   "source": [
    "# .when()\n",
    "We can use the when function along with the with_columns function for creating conditional columns. It works as shown below. If the condition is met, then the column takes corresponding value. We can provide multiple conditions by chaining when-then pairs. Finally, the otherwise part is for the remaining rows that don’t fit any of the given conditions.\n",
    "\n",
    "> when(condition1).then(value2) <br>\n",
    "> when(condition1).then(value2) <br>\n",
    "> otherwise(value3)  <br>\n",
    "\n",
    "Examples:"
   ]
  },
  {
   "cell_type": "code",
   "execution_count": 24,
   "id": "bd293283-8e7a-4b4e-8bbc-264860fc26db",
   "metadata": {},
   "outputs": [
    {
     "data": {
      "text/html": [
       "<div><style>\n",
       ".dataframe > thead > tr,\n",
       ".dataframe > tbody > tr {\n",
       "  text-align: right;\n",
       "  white-space: pre-wrap;\n",
       "}\n",
       "</style>\n",
       "<small>shape: (2, 2)</small><table border=\"1\" class=\"dataframe\"><thead><tr><th>has_sales</th><th>count</th></tr><tr><td>i32</td><td>u32</td></tr></thead><tbody><tr><td>0</td><td>211927</td></tr><tr><td>1</td><td>2421</td></tr></tbody></table></div>"
      ],
      "text/plain": [
       "shape: (2, 2)\n",
       "┌───────────┬────────┐\n",
       "│ has_sales ┆ count  │\n",
       "│ ---       ┆ ---    │\n",
       "│ i32       ┆ u32    │\n",
       "╞═══════════╪════════╡\n",
       "│ 0         ┆ 211927 │\n",
       "│ 1         ┆ 2421   │\n",
       "└───────────┴────────┘"
      ]
     },
     "execution_count": 24,
     "metadata": {},
     "output_type": "execute_result"
    }
   ],
   "source": [
    "# Polars\n",
    "\n",
    "# create has_value column that takes the value 1 if sales quantity is higher than 0 and the value 0 otherwise\n",
    "\n",
    "dft = df_pl.with_columns(\n",
    "    pl.when(pl.col(\"sales_qty\") > 0).then(1).otherwise(0).alias(\"has_sales\")\n",
    ")\n",
    "dft[\"has_sales\"].value_counts()"
   ]
  },
  {
   "cell_type": "markdown",
   "id": "03d5c2d5-ccd9-422a-afce-92b8d4efa845",
   "metadata": {},
   "source": [
    "##### multiple when_then"
   ]
  },
  {
   "cell_type": "code",
   "execution_count": 25,
   "id": "ce91b141-54e7-4d0a-b8c6-5c430196f20b",
   "metadata": {},
   "outputs": [
    {
     "data": {
      "text/plain": [
       "(214348, 9)"
      ]
     },
     "execution_count": 25,
     "metadata": {},
     "output_type": "execute_result"
    }
   ],
   "source": [
    "df_pl.shape"
   ]
  },
  {
   "cell_type": "code",
   "execution_count": 26,
   "id": "8a775863-c7ec-429a-bca7-240bdc90a076",
   "metadata": {},
   "outputs": [
    {
     "data": {
      "text/html": [
       "<div><style>\n",
       ".dataframe > thead > tr,\n",
       ".dataframe > tbody > tr {\n",
       "  text-align: right;\n",
       "  white-space: pre-wrap;\n",
       "}\n",
       "</style>\n",
       "<small>shape: (8, 2)</small><table border=\"1\" class=\"dataframe\"><thead><tr><th>sales_qty</th><th>count</th></tr><tr><td>i64</td><td>u32</td></tr></thead><tbody><tr><td>-3</td><td>1</td></tr><tr><td>2</td><td>73</td></tr><tr><td>4</td><td>1</td></tr><tr><td>1</td><td>2342</td></tr><tr><td>-1</td><td>159</td></tr><tr><td>0</td><td>211763</td></tr><tr><td>-2</td><td>4</td></tr><tr><td>3</td><td>5</td></tr></tbody></table></div>"
      ],
      "text/plain": [
       "shape: (8, 2)\n",
       "┌───────────┬────────┐\n",
       "│ sales_qty ┆ count  │\n",
       "│ ---       ┆ ---    │\n",
       "│ i64       ┆ u32    │\n",
       "╞═══════════╪════════╡\n",
       "│ -3        ┆ 1      │\n",
       "│ 2         ┆ 73     │\n",
       "│ 4         ┆ 1      │\n",
       "│ 1         ┆ 2342   │\n",
       "│ -1        ┆ 159    │\n",
       "│ 0         ┆ 211763 │\n",
       "│ -2        ┆ 4      │\n",
       "│ 3         ┆ 5      │\n",
       "└───────────┴────────┘"
      ]
     },
     "execution_count": 26,
     "metadata": {},
     "output_type": "execute_result"
    }
   ],
   "source": [
    "df_pl[\"sales_qty\"].value_counts()"
   ]
  },
  {
   "cell_type": "code",
   "execution_count": 27,
   "id": "3d40bfb2-23d6-49c6-8b59-ddeabc19a933",
   "metadata": {},
   "outputs": [
    {
     "data": {
      "text/html": [
       "<div><style>\n",
       ".dataframe > thead > tr,\n",
       ".dataframe > tbody > tr {\n",
       "  text-align: right;\n",
       "  white-space: pre-wrap;\n",
       "}\n",
       "</style>\n",
       "<small>shape: (3, 2)</small><table border=\"1\" class=\"dataframe\"><thead><tr><th>sales_group</th><th>count</th></tr><tr><td>str</td><td>u32</td></tr></thead><tbody><tr><td>&quot;error data&quot;</td><td>164</td></tr><tr><td>&quot;high&quot;</td><td>2421</td></tr><tr><td>&quot;low&quot;</td><td>211763</td></tr></tbody></table></div>"
      ],
      "text/plain": [
       "shape: (3, 2)\n",
       "┌─────────────┬────────┐\n",
       "│ sales_group ┆ count  │\n",
       "│ ---         ┆ ---    │\n",
       "│ str         ┆ u32    │\n",
       "╞═════════════╪════════╡\n",
       "│ error data  ┆ 164    │\n",
       "│ high        ┆ 2421   │\n",
       "│ low         ┆ 211763 │\n",
       "└─────────────┴────────┘"
      ]
     },
     "execution_count": 27,
     "metadata": {},
     "output_type": "execute_result"
    }
   ],
   "source": [
    "# create sales_group column that takes the value \n",
    "# \"low\" if sales quantity is less than 5 \n",
    "# \"medium\" if sales quantity is between 5 and 20\n",
    "# \"high\" otherwise (i.e. sales is more than 20)\n",
    "\n",
    "dft = df_pl.with_columns(\n",
    "    pl.when(pl.col(\"sales_qty\") < 0).then(pl.lit(\"error data\")).\\\n",
    "    when((pl.col(\"sales_qty\") >= 0) & (pl.col(\"sales_qty\") < 1)).then(pl.lit(\"low\")).\\\n",
    "    otherwise(pl.lit(\"high\")).alias(\"sales_group\")\n",
    ")\n",
    "dft[\"sales_group\"].value_counts()"
   ]
  },
  {
   "cell_type": "raw",
   "id": "9d629b1d-ed6a-4eb6-b09b-a0a9bcbd83dc",
   "metadata": {},
   "source": [
    "# Pandas\n",
    "import numpy as np\n",
    "\n",
    "# create has_value column that takes the value 1 if \n",
    "# sales quantity is higher than 0 and the value 0 otherwise\n",
    "df_pd.loc[:, \"has_sale\"] = np.where(df_pd[\"sales_qty\"] > 0, 1, 0)\n",
    "\n",
    "# create sales_group column that takes the \n",
    "# value low if sales quantity is less than 5\n",
    "# value medium if sales quantity is between 5 and 20\n",
    "# value high otherwise (i.e. sales is more than 20)\n",
    "\n",
    "conditions = [\n",
    "    df_pd[\"sales_qty\"] < 5,\n",
    "    (df_pd[\"sales_qty\"] >= 5) & (df_pd[\"sales_qty\"] < 20)\n",
    "]\n",
    "\n",
    "values = [\"low\", \"medium\"]\n",
    "\n",
    "df_pd.loc[:, \"sales_group\"] = np.select(conditions, values, default=\"high\")"
   ]
  },
  {
   "cell_type": "markdown",
   "id": "a57beefe-a77e-48b9-9a42-92394acdf863",
   "metadata": {},
   "source": [
    "# polars.DataFrame.melt\n",
    "- Unpivot a DataFrame from wide to long format.\n",
    "- Optionally leaves identifiers set.\n",
    "- This function is useful to massage a DataFrame into a format\n",
    "    - where one or more columns are <b>identifier variables</b> (`id_vars`) while all other columns, considered <b>measured variables</b> (`value_vars`), are “unpivoted” to the row axis\n",
    "    - leaving just <b>two non-identifier columns</b>, `variable` and `value`.\n",
    "        - where `variable` is one or more columsn that are not the id_vars nor the value_vars\n",
    ">`id_vars` | variable | `value_vars`\n",
    "      \n",
    "- https://docs.pola.rs/py-polars/html/reference/dataframe/api/polars.DataFrame.melt.html\n",
    "<br>\n",
    "<u>Parameters:</u>\n",
    "- id_vars\n",
    "    - Column(s) or selector(s) to use as identifier variables.\n",
    "- value_vars\n",
    "    - Column(s) or selector(s) to use as values variables;\n",
    "    - if value_vars is empty, then all columns that are not in id_vars will be used.\n",
    "- variable_name\n",
    "    - Name to give to the variable column. Defaults to “variable”\n",
    "- value_name\n",
    "    - Name to give to the value column. Defaults to “value”"
   ]
  },
  {
   "cell_type": "code",
   "execution_count": 28,
   "id": "14d6b608-8180-49df-9d98-5293e7f0d99c",
   "metadata": {},
   "outputs": [
    {
     "name": "stdout",
     "output_type": "stream",
     "text": [
      "OrderedDict([('a', String), ('b', Int64), ('c', Int64)])\n",
      "shape: (3, 3)\n",
      "┌─────┬─────┬─────┐\n",
      "│ a   ┆ b   ┆ c   │\n",
      "│ --- ┆ --- ┆ --- │\n",
      "│ str ┆ i64 ┆ i64 │\n",
      "╞═════╪═════╪═════╡\n",
      "│ x   ┆ 1   ┆ 2   │\n",
      "│ y   ┆ 3   ┆ 4   │\n",
      "│ z   ┆ 5   ┆ 6   │\n",
      "└─────┴─────┴─────┘\n"
     ]
    }
   ],
   "source": [
    "import polars as pl\n",
    "df = pl.DataFrame(\n",
    "    {\n",
    "        \"a\": [\"x\", \"y\", \"z\"],\n",
    "        \"b\": [1, 3, 5],\n",
    "        \"c\": [2, 4, 6],\n",
    "    }\n",
    ")\n",
    "print(df.schema)\n",
    "print(df)"
   ]
  },
  {
   "cell_type": "code",
   "execution_count": 29,
   "id": "ec22f789-7f4b-44ba-9216-8998a82f78e4",
   "metadata": {},
   "outputs": [
    {
     "data": {
      "text/html": [
       "<div><style>\n",
       ".dataframe > thead > tr,\n",
       ".dataframe > tbody > tr {\n",
       "  text-align: right;\n",
       "  white-space: pre-wrap;\n",
       "}\n",
       "</style>\n",
       "<small>shape: (3, 3)</small><table border=\"1\" class=\"dataframe\"><thead><tr><th>a</th><th>variable</th><th>value</th></tr><tr><td>str</td><td>str</td><td>i64</td></tr></thead><tbody><tr><td>&quot;x&quot;</td><td>&quot;c&quot;</td><td>2</td></tr><tr><td>&quot;y&quot;</td><td>&quot;c&quot;</td><td>4</td></tr><tr><td>&quot;z&quot;</td><td>&quot;c&quot;</td><td>6</td></tr></tbody></table></div>"
      ],
      "text/plain": [
       "shape: (3, 3)\n",
       "┌─────┬──────────┬───────┐\n",
       "│ a   ┆ variable ┆ value │\n",
       "│ --- ┆ ---      ┆ ---   │\n",
       "│ str ┆ str      ┆ i64   │\n",
       "╞═════╪══════════╪═══════╡\n",
       "│ x   ┆ c        ┆ 2     │\n",
       "│ y   ┆ c        ┆ 4     │\n",
       "│ z   ┆ c        ┆ 6     │\n",
       "└─────┴──────────┴───────┘"
      ]
     },
     "execution_count": 29,
     "metadata": {},
     "output_type": "execute_result"
    }
   ],
   "source": [
    "df.melt(id_vars=\"a\", value_vars=['c'])"
   ]
  },
  {
   "cell_type": "code",
   "execution_count": 30,
   "id": "968ecfbf-9b48-465c-8128-13f85940d8b6",
   "metadata": {},
   "outputs": [
    {
     "data": {
      "text/html": [
       "<div><style>\n",
       ".dataframe > thead > tr,\n",
       ".dataframe > tbody > tr {\n",
       "  text-align: right;\n",
       "  white-space: pre-wrap;\n",
       "}\n",
       "</style>\n",
       "<small>shape: (6, 3)</small><table border=\"1\" class=\"dataframe\"><thead><tr><th>a</th><th>variable</th><th>value</th></tr><tr><td>str</td><td>str</td><td>i64</td></tr></thead><tbody><tr><td>&quot;x&quot;</td><td>&quot;b&quot;</td><td>1</td></tr><tr><td>&quot;y&quot;</td><td>&quot;b&quot;</td><td>3</td></tr><tr><td>&quot;z&quot;</td><td>&quot;b&quot;</td><td>5</td></tr><tr><td>&quot;x&quot;</td><td>&quot;c&quot;</td><td>2</td></tr><tr><td>&quot;y&quot;</td><td>&quot;c&quot;</td><td>4</td></tr><tr><td>&quot;z&quot;</td><td>&quot;c&quot;</td><td>6</td></tr></tbody></table></div>"
      ],
      "text/plain": [
       "shape: (6, 3)\n",
       "┌─────┬──────────┬───────┐\n",
       "│ a   ┆ variable ┆ value │\n",
       "│ --- ┆ ---      ┆ ---   │\n",
       "│ str ┆ str      ┆ i64   │\n",
       "╞═════╪══════════╪═══════╡\n",
       "│ x   ┆ b        ┆ 1     │\n",
       "│ y   ┆ b        ┆ 3     │\n",
       "│ z   ┆ b        ┆ 5     │\n",
       "│ x   ┆ c        ┆ 2     │\n",
       "│ y   ┆ c        ┆ 4     │\n",
       "│ z   ┆ c        ┆ 6     │\n",
       "└─────┴──────────┴───────┘"
      ]
     },
     "execution_count": 30,
     "metadata": {},
     "output_type": "execute_result"
    }
   ],
   "source": [
    "import polars.selectors as cs\n",
    "df.melt(id_vars=\"a\", value_vars=cs.numeric())  # selector allows selection by datatype"
   ]
  },
  {
   "cell_type": "code",
   "execution_count": 31,
   "id": "330f1fa7-049b-452f-8f1d-fe825a00eaa7",
   "metadata": {},
   "outputs": [
    {
     "data": {
      "text/html": [
       "<div><style>\n",
       ".dataframe > thead > tr,\n",
       ".dataframe > tbody > tr {\n",
       "  text-align: right;\n",
       "  white-space: pre-wrap;\n",
       "}\n",
       "</style>\n",
       "<small>shape: (6, 3)</small><table border=\"1\" class=\"dataframe\"><thead><tr><th>a</th><th>variable</th><th>value</th></tr><tr><td>str</td><td>str</td><td>i64</td></tr></thead><tbody><tr><td>&quot;x&quot;</td><td>&quot;b&quot;</td><td>1</td></tr><tr><td>&quot;y&quot;</td><td>&quot;b&quot;</td><td>3</td></tr><tr><td>&quot;z&quot;</td><td>&quot;b&quot;</td><td>5</td></tr><tr><td>&quot;x&quot;</td><td>&quot;c&quot;</td><td>2</td></tr><tr><td>&quot;y&quot;</td><td>&quot;c&quot;</td><td>4</td></tr><tr><td>&quot;z&quot;</td><td>&quot;c&quot;</td><td>6</td></tr></tbody></table></div>"
      ],
      "text/plain": [
       "shape: (6, 3)\n",
       "┌─────┬──────────┬───────┐\n",
       "│ a   ┆ variable ┆ value │\n",
       "│ --- ┆ ---      ┆ ---   │\n",
       "│ str ┆ str      ┆ i64   │\n",
       "╞═════╪══════════╪═══════╡\n",
       "│ x   ┆ b        ┆ 1     │\n",
       "│ y   ┆ b        ┆ 3     │\n",
       "│ z   ┆ b        ┆ 5     │\n",
       "│ x   ┆ c        ┆ 2     │\n",
       "│ y   ┆ c        ┆ 4     │\n",
       "│ z   ┆ c        ┆ 6     │\n",
       "└─────┴──────────┴───────┘"
      ]
     },
     "execution_count": 31,
     "metadata": {},
     "output_type": "execute_result"
    }
   ],
   "source": [
    "df.melt(id_vars=\"a\")"
   ]
  },
  {
   "cell_type": "markdown",
   "id": "a5c3e114-a3f0-4439-85bc-b0bea16db1cb",
   "metadata": {},
   "source": [
    "# Long to Wide"
   ]
  },
  {
   "cell_type": "code",
   "execution_count": 32,
   "id": "30ad901e-193d-4549-af55-82d9f30f4eb3",
   "metadata": {},
   "outputs": [
    {
     "name": "stdout",
     "output_type": "stream",
     "text": [
      "OrderedDict([('a', String), ('b', Int64), ('c', Int64)])\n",
      "shape: (3, 3)\n",
      "┌─────┬─────┬─────┐\n",
      "│ a   ┆ b   ┆ c   │\n",
      "│ --- ┆ --- ┆ --- │\n",
      "│ str ┆ i64 ┆ i64 │\n",
      "╞═════╪═════╪═════╡\n",
      "│ x   ┆ 1   ┆ 2   │\n",
      "│ y   ┆ 3   ┆ 4   │\n",
      "│ z   ┆ 5   ┆ 6   │\n",
      "└─────┴─────┴─────┘\n",
      "shape: (6, 3)\n",
      "┌─────┬──────────┬───────┐\n",
      "│ a   ┆ variable ┆ value │\n",
      "│ --- ┆ ---      ┆ ---   │\n",
      "│ str ┆ str      ┆ i64   │\n",
      "╞═════╪══════════╪═══════╡\n",
      "│ x   ┆ b        ┆ 1     │\n",
      "│ y   ┆ b        ┆ 3     │\n",
      "│ z   ┆ b        ┆ 5     │\n",
      "│ x   ┆ c        ┆ 2     │\n",
      "│ y   ┆ c        ┆ 4     │\n",
      "│ z   ┆ c        ┆ 6     │\n",
      "└─────┴──────────┴───────┘\n"
     ]
    }
   ],
   "source": [
    "import polars as pl\n",
    "df = pl.DataFrame(\n",
    "    {\n",
    "        \"a\": [\"x\", \"y\", \"z\"],\n",
    "        \"b\": [1, 3, 5],\n",
    "        \"c\": [2, 4, 6],\n",
    "    }\n",
    ")\n",
    "print(df.schema)\n",
    "print(df)\n",
    "import polars.selectors as cs\n",
    "dfm = df.melt(id_vars=\"a\", value_vars=cs.numeric())  # selector allows selection by datatype\n",
    "print(dfm)"
   ]
  },
  {
   "cell_type": "code",
   "execution_count": 33,
   "id": "c4a71e16-1971-4484-8708-c93d6eff72e2",
   "metadata": {},
   "outputs": [
    {
     "data": {
      "text/html": [
       "<div><style>\n",
       ".dataframe > thead > tr,\n",
       ".dataframe > tbody > tr {\n",
       "  text-align: right;\n",
       "  white-space: pre-wrap;\n",
       "}\n",
       "</style>\n",
       "<small>shape: (3, 3)</small><table border=\"1\" class=\"dataframe\"><thead><tr><th>a</th><th>b</th><th>c</th></tr><tr><td>str</td><td>i64</td><td>i64</td></tr></thead><tbody><tr><td>&quot;x&quot;</td><td>1</td><td>2</td></tr><tr><td>&quot;y&quot;</td><td>3</td><td>4</td></tr><tr><td>&quot;z&quot;</td><td>5</td><td>6</td></tr></tbody></table></div>"
      ],
      "text/plain": [
       "shape: (3, 3)\n",
       "┌─────┬─────┬─────┐\n",
       "│ a   ┆ b   ┆ c   │\n",
       "│ --- ┆ --- ┆ --- │\n",
       "│ str ┆ i64 ┆ i64 │\n",
       "╞═════╪═════╪═════╡\n",
       "│ x   ┆ 1   ┆ 2   │\n",
       "│ y   ┆ 3   ┆ 4   │\n",
       "│ z   ┆ 5   ┆ 6   │\n",
       "└─────┴─────┴─────┘"
      ]
     },
     "execution_count": 33,
     "metadata": {},
     "output_type": "execute_result"
    }
   ],
   "source": [
    "# it is possible to pivot from wide-to-long without using any aggregations\n",
    "# https://docs.pola.rs/py-polars/html/reference/dataframe/api/polars.DataFrame.pivot.html\n",
    "# e.g. df.pivot(index=\"foo\", columns=\"bar\", values=\"baz\", aggregate_function=\"sum\")\n",
    "# but need to test throughly\n",
    "\n",
    "dfm.pivot(index=\"a\", columns=\"variable\", values=\"value\")"
   ]
  },
  {
   "cell_type": "markdown",
   "id": "3f92000a-b216-4bc0-b344-b46b6418439e",
   "metadata": {},
   "source": [
    "##### Lazy"
   ]
  },
  {
   "cell_type": "raw",
   "id": "e79b326a-c71f-4116-9494-23cd43f49114",
   "metadata": {},
   "source": [
    "q = (\n",
    "    df.lazy()\n",
    "    .collect()\n",
    "    .pivot(index=\"foo\", columns=\"bar\", values=\"N\", aggregate_function=\"first\")\n",
    "    .lazy()\n",
    ")\n",
    "out = q.collect()\n",
    "print(out)"
   ]
  },
  {
   "cell_type": "markdown",
   "id": "36f5b2cc-3cb4-4c46-87e2-847852714754",
   "metadata": {},
   "source": [
    "# !!! Long to Wide, sorted and Wide to Long !!!"
   ]
  },
  {
   "cell_type": "code",
   "execution_count": 34,
   "id": "b4022308-5cc2-460b-9a25-569e1a78a2ce",
   "metadata": {},
   "outputs": [
    {
     "name": "stdout",
     "output_type": "stream",
     "text": [
      "shape: (3, 6)\n",
      "┌──────────┬────────┬─────────┬─────────┬─────────┬─────────┐\n",
      "│ app_code ┆ driver ┆ pc_code ┆ 2023-01 ┆ 2023-02 ┆ 2023-03 │\n",
      "│ ---      ┆ ---    ┆ ---     ┆ ---     ┆ ---     ┆ ---     │\n",
      "│ str      ┆ str    ┆ str     ┆ i64     ┆ i64     ┆ i64     │\n",
      "╞══════════╪════════╪═════════╪═════════╪═════════╪═════════╡\n",
      "│ x        ┆ a1     ┆ 111     ┆ 1       ┆ 4       ┆ 7       │\n",
      "│ y        ┆ a1     ┆ 111     ┆ 2       ┆ 5       ┆ 8       │\n",
      "│ z        ┆ a2     ┆ 222     ┆ 3       ┆ 6       ┆ 9       │\n",
      "└──────────┴────────┴─────────┴─────────┴─────────┴─────────┘\n",
      "shape: (9, 5)\n",
      "┌──────────┬────────┬─────────┬──────────┬───────┐\n",
      "│ app_code ┆ driver ┆ pc_code ┆ variable ┆ value │\n",
      "│ ---      ┆ ---    ┆ ---     ┆ ---      ┆ ---   │\n",
      "│ str      ┆ str    ┆ str     ┆ str      ┆ i64   │\n",
      "╞══════════╪════════╪═════════╪══════════╪═══════╡\n",
      "│ x        ┆ a1     ┆ 111     ┆ 2023-01  ┆ 1     │\n",
      "│ y        ┆ a1     ┆ 111     ┆ 2023-01  ┆ 2     │\n",
      "│ z        ┆ a2     ┆ 222     ┆ 2023-01  ┆ 3     │\n",
      "│ x        ┆ a1     ┆ 111     ┆ 2023-02  ┆ 4     │\n",
      "│ y        ┆ a1     ┆ 111     ┆ 2023-02  ┆ 5     │\n",
      "│ z        ┆ a2     ┆ 222     ┆ 2023-02  ┆ 6     │\n",
      "│ x        ┆ a1     ┆ 111     ┆ 2023-03  ┆ 7     │\n",
      "│ y        ┆ a1     ┆ 111     ┆ 2023-03  ┆ 8     │\n",
      "│ z        ┆ a2     ┆ 222     ┆ 2023-03  ┆ 9     │\n",
      "└──────────┴────────┴─────────┴──────────┴───────┘\n"
     ]
    }
   ],
   "source": [
    "### Example\n",
    "import polars as pl\n",
    "df = pl.DataFrame(\n",
    "    {\n",
    "        \"app_code\": [\"x\", \"y\", \"z\"],\n",
    "        \"driver\": [\"a1\", \"a1\", \"a2\"],\n",
    "        \"pc_code\": [\"111\", \"111\", \"222\"],\n",
    "        '2023-01': [1 ,2, 3],\n",
    "        '2023-02': [4, 5, 6],\n",
    "        '2023-03': [7, 8, 9],        \n",
    "    }\n",
    ")\n",
    "# print(df.schema)\n",
    "print(df)\n",
    "import polars.selectors as cs\n",
    "dfm = df.melt(id_vars=[\"app_code\", \"driver\", \"pc_code\"], value_vars=cs.numeric())  # selector allows selection by datatype\n",
    "print(dfm)"
   ]
  },
  {
   "cell_type": "code",
   "execution_count": 35,
   "id": "c524ad26-14ad-4b45-9b49-47b0b926fe44",
   "metadata": {},
   "outputs": [
    {
     "data": {
      "text/html": [
       "<div><style>\n",
       ".dataframe > thead > tr,\n",
       ".dataframe > tbody > tr {\n",
       "  text-align: right;\n",
       "  white-space: pre-wrap;\n",
       "}\n",
       "</style>\n",
       "<small>shape: (9, 5)</small><table border=\"1\" class=\"dataframe\"><thead><tr><th>app_code</th><th>driver</th><th>pc_code</th><th>variable</th><th>value</th></tr><tr><td>str</td><td>str</td><td>str</td><td>str</td><td>i64</td></tr></thead><tbody><tr><td>&quot;x&quot;</td><td>&quot;a1&quot;</td><td>&quot;111&quot;</td><td>&quot;2023-01&quot;</td><td>1</td></tr><tr><td>&quot;x&quot;</td><td>&quot;a1&quot;</td><td>&quot;111&quot;</td><td>&quot;2023-02&quot;</td><td>4</td></tr><tr><td>&quot;x&quot;</td><td>&quot;a1&quot;</td><td>&quot;111&quot;</td><td>&quot;2023-03&quot;</td><td>7</td></tr><tr><td>&quot;y&quot;</td><td>&quot;a1&quot;</td><td>&quot;111&quot;</td><td>&quot;2023-01&quot;</td><td>2</td></tr><tr><td>&quot;y&quot;</td><td>&quot;a1&quot;</td><td>&quot;111&quot;</td><td>&quot;2023-02&quot;</td><td>5</td></tr><tr><td>&quot;y&quot;</td><td>&quot;a1&quot;</td><td>&quot;111&quot;</td><td>&quot;2023-03&quot;</td><td>8</td></tr><tr><td>&quot;z&quot;</td><td>&quot;a2&quot;</td><td>&quot;222&quot;</td><td>&quot;2023-01&quot;</td><td>3</td></tr><tr><td>&quot;z&quot;</td><td>&quot;a2&quot;</td><td>&quot;222&quot;</td><td>&quot;2023-02&quot;</td><td>6</td></tr><tr><td>&quot;z&quot;</td><td>&quot;a2&quot;</td><td>&quot;222&quot;</td><td>&quot;2023-03&quot;</td><td>9</td></tr></tbody></table></div>"
      ],
      "text/plain": [
       "shape: (9, 5)\n",
       "┌──────────┬────────┬─────────┬──────────┬───────┐\n",
       "│ app_code ┆ driver ┆ pc_code ┆ variable ┆ value │\n",
       "│ ---      ┆ ---    ┆ ---     ┆ ---      ┆ ---   │\n",
       "│ str      ┆ str    ┆ str     ┆ str      ┆ i64   │\n",
       "╞══════════╪════════╪═════════╪══════════╪═══════╡\n",
       "│ x        ┆ a1     ┆ 111     ┆ 2023-01  ┆ 1     │\n",
       "│ x        ┆ a1     ┆ 111     ┆ 2023-02  ┆ 4     │\n",
       "│ x        ┆ a1     ┆ 111     ┆ 2023-03  ┆ 7     │\n",
       "│ y        ┆ a1     ┆ 111     ┆ 2023-01  ┆ 2     │\n",
       "│ y        ┆ a1     ┆ 111     ┆ 2023-02  ┆ 5     │\n",
       "│ y        ┆ a1     ┆ 111     ┆ 2023-03  ┆ 8     │\n",
       "│ z        ┆ a2     ┆ 222     ┆ 2023-01  ┆ 3     │\n",
       "│ z        ┆ a2     ┆ 222     ┆ 2023-02  ┆ 6     │\n",
       "│ z        ┆ a2     ┆ 222     ┆ 2023-03  ┆ 9     │\n",
       "└──────────┴────────┴─────────┴──────────┴───────┘"
      ]
     },
     "execution_count": 35,
     "metadata": {},
     "output_type": "execute_result"
    }
   ],
   "source": [
    "dfm_s = dfm.sort(by=[\"pc_code\", \"app_code\", \"driver\"])\n",
    "dfm_s"
   ]
  },
  {
   "cell_type": "code",
   "execution_count": 36,
   "id": "fb1cc3cf-cdb2-4ef5-b8dc-b0cb571a8897",
   "metadata": {},
   "outputs": [
    {
     "data": {
      "text/html": [
       "<div><style>\n",
       ".dataframe > thead > tr,\n",
       ".dataframe > tbody > tr {\n",
       "  text-align: right;\n",
       "  white-space: pre-wrap;\n",
       "}\n",
       "</style>\n",
       "<small>shape: (3, 6)</small><table border=\"1\" class=\"dataframe\"><thead><tr><th>app_code</th><th>driver</th><th>pc_code</th><th>2023-01</th><th>2023-02</th><th>2023-03</th></tr><tr><td>str</td><td>str</td><td>str</td><td>i64</td><td>i64</td><td>i64</td></tr></thead><tbody><tr><td>&quot;x&quot;</td><td>&quot;a1&quot;</td><td>&quot;111&quot;</td><td>1</td><td>4</td><td>7</td></tr><tr><td>&quot;y&quot;</td><td>&quot;a1&quot;</td><td>&quot;111&quot;</td><td>2</td><td>5</td><td>8</td></tr><tr><td>&quot;z&quot;</td><td>&quot;a2&quot;</td><td>&quot;222&quot;</td><td>3</td><td>6</td><td>9</td></tr></tbody></table></div>"
      ],
      "text/plain": [
       "shape: (3, 6)\n",
       "┌──────────┬────────┬─────────┬─────────┬─────────┬─────────┐\n",
       "│ app_code ┆ driver ┆ pc_code ┆ 2023-01 ┆ 2023-02 ┆ 2023-03 │\n",
       "│ ---      ┆ ---    ┆ ---     ┆ ---     ┆ ---     ┆ ---     │\n",
       "│ str      ┆ str    ┆ str     ┆ i64     ┆ i64     ┆ i64     │\n",
       "╞══════════╪════════╪═════════╪═════════╪═════════╪═════════╡\n",
       "│ x        ┆ a1     ┆ 111     ┆ 1       ┆ 4       ┆ 7       │\n",
       "│ y        ┆ a1     ┆ 111     ┆ 2       ┆ 5       ┆ 8       │\n",
       "│ z        ┆ a2     ┆ 222     ┆ 3       ┆ 6       ┆ 9       │\n",
       "└──────────┴────────┴─────────┴─────────┴─────────┴─────────┘"
      ]
     },
     "execution_count": 36,
     "metadata": {},
     "output_type": "execute_result"
    }
   ],
   "source": [
    "dfm_p = dfm_s.pivot(index=[\"app_code\", \"driver\", \"pc_code\"], columns=\"variable\", values=\"value\")\n",
    "dfm_p"
   ]
  },
  {
   "cell_type": "code",
   "execution_count": null,
   "id": "7d761b29-e2d8-47e9-ba23-44afc93d71c4",
   "metadata": {},
   "outputs": [],
   "source": []
  },
  {
   "cell_type": "code",
   "execution_count": 37,
   "id": "fc86a40d-6fb3-4103-8888-63cfccad3fdb",
   "metadata": {},
   "outputs": [],
   "source": [
    "# Simulate groupby ? Still need to melt?"
   ]
  },
  {
   "cell_type": "markdown",
   "id": "c3ee2bae-8abc-4c0e-9503-5cfe200ede2b",
   "metadata": {},
   "source": [
    "# !!! Simulation: Long to Wide, melt vs group_by !!!\n",
    "- After melting, it is difficult to get back exactly the same number of columns and rows\n",
    "- So if the pre-melt data is important, it needs to be stored before any transformation is done"
   ]
  },
  {
   "cell_type": "code",
   "execution_count": 38,
   "id": "261aaa77-97c0-483f-b617-e96e380c9ac9",
   "metadata": {},
   "outputs": [
    {
     "name": "stdout",
     "output_type": "stream",
     "text": [
      "shape: (6, 6)\n",
      "┌──────────┬────────┬─────────┬─────────┬─────────┬─────────┐\n",
      "│ app_code ┆ driver ┆ pc_code ┆ 2023-01 ┆ 2023-02 ┆ 2023-03 │\n",
      "│ ---      ┆ ---    ┆ ---     ┆ ---     ┆ ---     ┆ ---     │\n",
      "│ str      ┆ str    ┆ str     ┆ i64     ┆ i64     ┆ i64     │\n",
      "╞══════════╪════════╪═════════╪═════════╪═════════╪═════════╡\n",
      "│ x        ┆ y1     ┆ z1      ┆ 1       ┆ 1       ┆ 1       │\n",
      "│ y        ┆ y1     ┆ z1      ┆ 1       ┆ 1       ┆ 1       │\n",
      "│ y        ┆ y1     ┆ z1      ┆ 1       ┆ 1       ┆ 1       │\n",
      "│ z        ┆ y1     ┆ z1      ┆ 1       ┆ 1       ┆ 1       │\n",
      "│ z        ┆ y2     ┆ z2      ┆ 1       ┆ 1       ┆ 1       │\n",
      "│ z        ┆ y2     ┆ z2      ┆ 1       ┆ 1       ┆ 1       │\n",
      "└──────────┴────────┴─────────┴─────────┴─────────┴─────────┘\n",
      "shape: (18, 5)\n",
      "┌──────────┬────────┬─────────┬──────────┬───────┐\n",
      "│ app_code ┆ driver ┆ pc_code ┆ variable ┆ value │\n",
      "│ ---      ┆ ---    ┆ ---     ┆ ---      ┆ ---   │\n",
      "│ str      ┆ str    ┆ str     ┆ str      ┆ i64   │\n",
      "╞══════════╪════════╪═════════╪══════════╪═══════╡\n",
      "│ x        ┆ y1     ┆ z1      ┆ 2023-01  ┆ 1     │\n",
      "│ y        ┆ y1     ┆ z1      ┆ 2023-01  ┆ 1     │\n",
      "│ y        ┆ y1     ┆ z1      ┆ 2023-01  ┆ 1     │\n",
      "│ z        ┆ y1     ┆ z1      ┆ 2023-01  ┆ 1     │\n",
      "│ z        ┆ y2     ┆ z2      ┆ 2023-01  ┆ 1     │\n",
      "│ …        ┆ …      ┆ …       ┆ …        ┆ …     │\n",
      "│ y        ┆ y1     ┆ z1      ┆ 2023-03  ┆ 1     │\n",
      "│ y        ┆ y1     ┆ z1      ┆ 2023-03  ┆ 1     │\n",
      "│ z        ┆ y1     ┆ z1      ┆ 2023-03  ┆ 1     │\n",
      "│ z        ┆ y2     ┆ z2      ┆ 2023-03  ┆ 1     │\n",
      "│ z        ┆ y2     ┆ z2      ┆ 2023-03  ┆ 1     │\n",
      "└──────────┴────────┴─────────┴──────────┴───────┘\n",
      "\n",
      "If there are duplicate rounds, they need to be deduped or aggregated, else Error occurs\n",
      "shape: (4, 6)\n",
      "┌──────────┬────────┬─────────┬─────────┬─────────┬─────────┐\n",
      "│ app_code ┆ driver ┆ pc_code ┆ 2023-01 ┆ 2023-02 ┆ 2023-03 │\n",
      "│ ---      ┆ ---    ┆ ---     ┆ ---     ┆ ---     ┆ ---     │\n",
      "│ str      ┆ str    ┆ str     ┆ i64     ┆ i64     ┆ i64     │\n",
      "╞══════════╪════════╪═════════╪═════════╪═════════╪═════════╡\n",
      "│ x        ┆ y1     ┆ z1      ┆ 1       ┆ 1       ┆ 1       │\n",
      "│ y        ┆ y1     ┆ z1      ┆ 2       ┆ 2       ┆ 2       │\n",
      "│ z        ┆ y1     ┆ z1      ┆ 1       ┆ 1       ┆ 1       │\n",
      "│ z        ┆ y2     ┆ z2      ┆ 2       ┆ 2       ┆ 2       │\n",
      "└──────────┴────────┴─────────┴─────────┴─────────┴─────────┘\n"
     ]
    }
   ],
   "source": [
    "### Example\n",
    "import polars as pl\n",
    "df = pl.DataFrame(\n",
    "    {\n",
    "        \"app_code\": [\"x\", \"y\", \"y\", \"z\", \"z\", \"z\"],\n",
    "        \"driver\":   [\"y1\", \"y1\", \"y1\", \"y1\", \"y2\", \"y2\"],\n",
    "        \"pc_code\":  [\"z1\", \"z1\", \"z1\", \"z1\", \"z2\", \"z2\",],\n",
    "        '2023-01':  [1, 1, 1, 1, 1, 1],\n",
    "        '2023-02':  [1, 1, 1, 1, 1, 1],\n",
    "        '2023-03':  [1, 1, 1, 1, 1, 1]        \n",
    "    }\n",
    ")\n",
    "print(df)\n",
    "\n",
    "import polars.selectors as cs  # instead of melt, why not just group_by?\n",
    "dfm = df.melt(id_vars=[\"app_code\", \"driver\", \"pc_code\"], value_vars=cs.numeric())  # selector allows selection by datatype\n",
    "print(dfm)\n",
    "\n",
    "print(\"\\nIf there are duplicate rounds, they need to be deduped or aggregated, else Error occurs\")\n",
    "dfm_p = dfm.pivot(index=[\"app_code\", \"driver\", \"pc_code\"], columns=\"variable\", values=\"value\", aggregate_function=\"sum\")\n",
    "print(dfm_p)\n",
    "dfm_p.write_csv(\"z_test.csv\")"
   ]
  },
  {
   "cell_type": "markdown",
   "id": "ece3c8a8-45a0-4a0d-b50b-6310e4448c48",
   "metadata": {},
   "source": [
    "# Melt -> Group by -> make 1st col 'month_start', saving into database"
   ]
  },
  {
   "cell_type": "code",
   "execution_count": 39,
   "id": "b3fbcdc9-907f-42b8-8cd6-fc4e0bd8364d",
   "metadata": {},
   "outputs": [
    {
     "name": "stdout",
     "output_type": "stream",
     "text": [
      "shape: (6, 6)\n",
      "┌─────────┬──────────┬────────┬─────────┬─────────┬─────────┐\n",
      "│ pc_code ┆ app_code ┆ driver ┆ 2023-01 ┆ 2023-02 ┆ 2023-03 │\n",
      "│ ---     ┆ ---      ┆ ---    ┆ ---     ┆ ---     ┆ ---     │\n",
      "│ str     ┆ str      ┆ str    ┆ i64     ┆ i64     ┆ i64     │\n",
      "╞═════════╪══════════╪════════╪═════════╪═════════╪═════════╡\n",
      "│ z1      ┆ x        ┆ y1     ┆ 1       ┆ 1       ┆ 1       │\n",
      "│ z1      ┆ y        ┆ y1     ┆ 1       ┆ 1       ┆ 1       │\n",
      "│ z1      ┆ y        ┆ y1     ┆ 1       ┆ 1       ┆ 1       │\n",
      "│ z1      ┆ z        ┆ y1     ┆ 1       ┆ 1       ┆ 1       │\n",
      "│ z2      ┆ z        ┆ y2     ┆ 1       ┆ 1       ┆ 1       │\n",
      "│ z2      ┆ z        ┆ y2     ┆ 1       ┆ 1       ┆ 1       │\n",
      "└─────────┴──────────┴────────┴─────────┴─────────┴─────────┘\n",
      "shape: (18, 5)\n",
      "┌─────────┬──────────┬────────┬─────────────┬──────┐\n",
      "│ pc_code ┆ app_code ┆ driver ┆ month_start ┆ cost │\n",
      "│ ---     ┆ ---      ┆ ---    ┆ ---         ┆ ---  │\n",
      "│ str     ┆ str      ┆ str    ┆ str         ┆ i64  │\n",
      "╞═════════╪══════════╪════════╪═════════════╪══════╡\n",
      "│ z1      ┆ x        ┆ y1     ┆ 2023-01     ┆ 1    │\n",
      "│ z1      ┆ y        ┆ y1     ┆ 2023-01     ┆ 1    │\n",
      "│ z1      ┆ y        ┆ y1     ┆ 2023-01     ┆ 1    │\n",
      "│ z1      ┆ z        ┆ y1     ┆ 2023-01     ┆ 1    │\n",
      "│ z2      ┆ z        ┆ y2     ┆ 2023-01     ┆ 1    │\n",
      "│ …       ┆ …        ┆ …      ┆ …           ┆ …    │\n",
      "│ z1      ┆ y        ┆ y1     ┆ 2023-03     ┆ 1    │\n",
      "│ z1      ┆ y        ┆ y1     ┆ 2023-03     ┆ 1    │\n",
      "│ z1      ┆ z        ┆ y1     ┆ 2023-03     ┆ 1    │\n",
      "│ z2      ┆ z        ┆ y2     ┆ 2023-03     ┆ 1    │\n",
      "│ z2      ┆ z        ┆ y2     ┆ 2023-03     ┆ 1    │\n",
      "└─────────┴──────────┴────────┴─────────────┴──────┘\n",
      "shape: (12, 5)\n",
      "┌─────────────┬─────────┬──────────┬────────┬──────┐\n",
      "│ month_start ┆ pc_code ┆ app_code ┆ driver ┆ cost │\n",
      "│ ---         ┆ ---     ┆ ---      ┆ ---    ┆ ---  │\n",
      "│ str         ┆ str     ┆ str      ┆ str    ┆ i64  │\n",
      "╞═════════════╪═════════╪══════════╪════════╪══════╡\n",
      "│ 2023-01     ┆ z1      ┆ x        ┆ y1     ┆ 1    │\n",
      "│ 2023-01     ┆ z1      ┆ y        ┆ y1     ┆ 2    │\n",
      "│ 2023-01     ┆ z1      ┆ z        ┆ y1     ┆ 1    │\n",
      "│ 2023-01     ┆ z2      ┆ z        ┆ y2     ┆ 2    │\n",
      "│ 2023-02     ┆ z1      ┆ x        ┆ y1     ┆ 1    │\n",
      "│ …           ┆ …       ┆ …        ┆ …      ┆ …    │\n",
      "│ 2023-02     ┆ z2      ┆ z        ┆ y2     ┆ 2    │\n",
      "│ 2023-03     ┆ z1      ┆ x        ┆ y1     ┆ 1    │\n",
      "│ 2023-03     ┆ z1      ┆ y        ┆ y1     ┆ 2    │\n",
      "│ 2023-03     ┆ z1      ┆ z        ┆ y1     ┆ 1    │\n",
      "│ 2023-03     ┆ z2      ┆ z        ┆ y2     ┆ 2    │\n",
      "└─────────────┴─────────┴──────────┴────────┴──────┘\n",
      "Keeping month_start in first column, means that I can delete by month_start and insert by_month_start.\n"
     ]
    }
   ],
   "source": [
    "import polars as pl\n",
    "df = pl.DataFrame(\n",
    "    {\n",
    "        \"pc_code\":  [\"z1\", \"z1\", \"z1\", \"z1\", \"z2\", \"z2\",],\n",
    "        \"app_code\": [\"x\", \"y\", \"y\", \"z\", \"z\", \"z\"],\n",
    "        \"driver\":   [\"y1\", \"y1\", \"y1\", \"y1\", \"y2\", \"y2\"],\n",
    "        '2023-01':  [1, 1, 1, 1, 1, 1],\n",
    "        '2023-02':  [1, 1, 1, 1, 1, 1],\n",
    "        '2023-03':  [1, 1, 1, 1, 1, 1]        \n",
    "    }\n",
    ")\n",
    "print(df)\n",
    "dfm = df.melt(id_vars=[\"pc_code\", \"app_code\", \"driver\", ], value_vars=cs.numeric(),\n",
    "             variable_name=\"month_start\", value_name=\"cost\")  # selector allows selection by datatype\n",
    "print(dfm)\n",
    "\n",
    "dfg = dfm.group_by([\"month_start\", \"pc_code\", \"app_code\", \"driver\", ]).agg(pl.col(\"cost\").sum()).sort(by= \\\n",
    "                                                                                                      [\"month_start\", \"pc_code\", \"app_code\", \"driver\"])\n",
    "print(dfg)\n",
    "# dfg.write_csv(\"z_test.csv\")\n",
    "\n",
    "print(\"Keeping month_start in first column, means that I can delete by month_start and insert by_month_start.\")"
   ]
  },
  {
   "cell_type": "markdown",
   "id": "03d7d25e-b4f7-4ece-b4d4-396b78f3d887",
   "metadata": {},
   "source": [
    "# rename col name, drop col, changing the value in a cell and create a new col, plus chg value in a cell directly\n",
    "- change \"2023-01-15\" to 2023_01\"\n",
    "- change all months to \"YYYY_MM\"\n",
    "- change last value of 2023-03 to 99\n",
    "\n",
    "- https://docs.pola.rs/py-polars/html/reference/dataframe/api/polars.DataFrame.select.html"
   ]
  },
  {
   "cell_type": "markdown",
   "id": "12d07055-ca2d-4375-8031-9daf880c7945",
   "metadata": {},
   "source": [
    "### I save the cleaned and melted into the db incl relevant cols incl hname but not the unnecessary ones. But group by is done only during send reports otherwise I lose the granularity of the data\n",
    "- save to parquet\n",
    "    - if parquet file size is small, we can save both wide and long, if req, does it make sense?\n",
    "- load from parquet to either duck or polars"
   ]
  },
  {
   "cell_type": "code",
   "execution_count": 40,
   "id": "5bb3a320-d03e-4cbc-8e6b-bc0c875a92f2",
   "metadata": {},
   "outputs": [
    {
     "name": "stdout",
     "output_type": "stream",
     "text": [
      "shape: (6, 8)\n",
      "┌─────────┬──────────┬────────┬─────────┬─────────┬─────────┬────────┬─────────┐\n",
      "│ pc_code ┆ app_code ┆ driver ┆ 2023_01 ┆ 2023_02 ┆ 2023_03 ┆ h_name ┆ outlier │\n",
      "│ ---     ┆ ---      ┆ ---    ┆ ---     ┆ ---     ┆ ---     ┆ ---    ┆ ---     │\n",
      "│ str     ┆ str      ┆ str    ┆ i64     ┆ i64     ┆ i64     ┆ str    ┆ str     │\n",
      "╞═════════╪══════════╪════════╪═════════╪═════════╪═════════╪════════╪═════════╡\n",
      "│ z1      ┆ x        ┆ y1     ┆ 1       ┆ 1       ┆ 1       ┆ XAB123 ┆ 0       │\n",
      "│ z1      ┆ y        ┆ y1     ┆ 1       ┆ 1       ┆ 1       ┆ XAB123 ┆ 0       │\n",
      "│ z1      ┆ y        ┆ y1     ┆ 1       ┆ 1       ┆ 1       ┆ XAB123 ┆ 0       │\n",
      "│ z1      ┆ z        ┆ y1     ┆ 1       ┆ 1       ┆ 1       ┆ XAB123 ┆ 0       │\n",
      "│ z2      ┆ z        ┆ y2     ┆ 1       ┆ 1       ┆ 1       ┆ XAB123 ┆ 0       │\n",
      "│ z2      ┆ z        ┆ y2     ┆ 1       ┆ 1       ┆ 99      ┆ XAB123 ┆ 1       │\n",
      "└─────────┴──────────┴────────┴─────────┴─────────┴─────────┴────────┴─────────┘\n",
      "shape: (18, 6)\n",
      "┌─────────┬──────────┬────────┬────────┬─────────────┬──────┐\n",
      "│ pc_code ┆ app_code ┆ driver ┆ h_name ┆ month_start ┆ cost │\n",
      "│ ---     ┆ ---      ┆ ---    ┆ ---    ┆ ---         ┆ ---  │\n",
      "│ str     ┆ str      ┆ str    ┆ str    ┆ str         ┆ i64  │\n",
      "╞═════════╪══════════╪════════╪════════╪═════════════╪══════╡\n",
      "│ z1      ┆ x        ┆ y1     ┆ XAB123 ┆ 2023_01     ┆ 1    │\n",
      "│ z1      ┆ y        ┆ y1     ┆ XAB123 ┆ 2023_01     ┆ 1    │\n",
      "│ z1      ┆ y        ┆ y1     ┆ XAB123 ┆ 2023_01     ┆ 1    │\n",
      "│ z1      ┆ z        ┆ y1     ┆ XAB123 ┆ 2023_01     ┆ 1    │\n",
      "│ z2      ┆ z        ┆ y2     ┆ XAB123 ┆ 2023_01     ┆ 1    │\n",
      "│ …       ┆ …        ┆ …      ┆ …      ┆ …           ┆ …    │\n",
      "│ z1      ┆ y        ┆ y1     ┆ XAB123 ┆ 2023_03     ┆ 1    │\n",
      "│ z1      ┆ y        ┆ y1     ┆ XAB123 ┆ 2023_03     ┆ 1    │\n",
      "│ z1      ┆ z        ┆ y1     ┆ XAB123 ┆ 2023_03     ┆ 1    │\n",
      "│ z2      ┆ z        ┆ y2     ┆ XAB123 ┆ 2023_03     ┆ 1    │\n",
      "│ z2      ┆ z        ┆ y2     ┆ XAB123 ┆ 2023_03     ┆ 99   │\n",
      "└─────────┴──────────┴────────┴────────┴─────────────┴──────┘\n",
      "save an csv and check\n",
      "group by is done in send report, not in etl. I don't want to lose the granularity of data.\n"
     ]
    }
   ],
   "source": [
    "import polars as pl\n",
    "import polars.selectors as cs\n",
    "df = pl.DataFrame(\n",
    "    {\n",
    "        \"pc_code\":  [\"z1\", \"z1\", \"z1\", \"z1\", \"z2\", \"z2\",],\n",
    "        \"app_code\": [\"x\", \"y\", \"y\", \"z\", \"z\", \"z\"],\n",
    "        \"driver\":   [\"y1\", \"y1\", \"y1\", \"y1\", \"y2\", \"y2\"],\n",
    "        \"unwanted_col\": [\"u1\", \"u1\", \"u1\", \"u1\", \"u1\", \"u1\"],\n",
    "        '2023-01-15':  [1, 1, 1, 1, 1, 1],\n",
    "        '2023-02':  [1, 1, 1, 1, 1, 1],\n",
    "        '2023-03':  [1, 1, 1, 1, 1, 1]        \n",
    "    }\n",
    ")\n",
    "# rename cols part A\n",
    "col_map = {\"unwanted_col\": \"remove_me\"}\n",
    "df = df.rename(col_map)\n",
    "# remove unwanted columns\n",
    "cols_wanted = df.columns\n",
    "cols_wanted.remove(\"remove_me\")\n",
    "df = df.select(cols_wanted)\n",
    "\n",
    "# rename cols part B \n",
    "# out = df.select(cs.integer(), cs.string(), cs.numeric()\n",
    "col_month = df.select(cs.numeric()).columns\n",
    "col_month_start = [c.split('-')[0].zfill(4) + '_' + c.split('-')[1] for c in col_month]\n",
    "col_map = {}\n",
    "col_map = {k: v for k, v in zip(col_month, col_month_start)}\n",
    "df = df.rename(col_map)\n",
    "# print(df)\n",
    "\n",
    "# change the value - change last value of 2023-03 to 99\n",
    "df[-1, \"2023_03\"] = 99  # this is inplace\n",
    "\n",
    "# create a new col with lit\n",
    "df = df.with_columns(\n",
    "    h_name = pl.lit('XAB123')\n",
    ")\n",
    "\n",
    "# create a new col with condition\n",
    "df = df.with_columns(pl.when(pl.col(\"2023_03\") >= 99).then(pl.lit(\"1\")).otherwise(pl.lit(\"0\")).alias(\"outlier\"))\n",
    "\n",
    "\n",
    "# melt but how to keep those columns I created? Concat with a condition that it matches [\"pc_code\", \"app_code\", \"driver\"]\n",
    "# month_start is wrong, should month_start be created after melting?\n",
    "print(df)\n",
    "dfm = df.melt(id_vars=[\"pc_code\", \"app_code\", \"driver\", \"h_name\"], value_vars=cs.numeric(),\n",
    "             variable_name=\"month_start\", value_name=\"cost\")  # selector allows selection by datatype\n",
    "print(dfm)\n",
    "print(\"save an csv and check\")\n",
    "\n",
    "print(\"group by is done in send report, not in etl. I don't want to lose the granularity of data.\")\n",
    "# dfg = dfm.group_by([\"month_start\", \"pc_code\", \"app_code\", \"driver\", ]).agg(pl.col(\"cost\").sum()).sort(by= \\\n",
    "#                                                                                                       [\"month_start\", \"pc_code\", \"app_code\", \"driver\"])\n",
    "# print(dfg)\n",
    "# dfg.write_csv(\"z_test.csv\")\n",
    "\n",
    "# print(\"Keeping month_start in first column, means that I can delete by month_start and insert by_month_start.\")"
   ]
  },
  {
   "cell_type": "code",
   "execution_count": 41,
   "id": "5230c35d-d579-49d2-8abc-3cd6dd51e211",
   "metadata": {},
   "outputs": [
    {
     "data": {
      "text/html": [
       "<div><style>\n",
       ".dataframe > thead > tr,\n",
       ".dataframe > tbody > tr {\n",
       "  text-align: right;\n",
       "  white-space: pre-wrap;\n",
       "}\n",
       "</style>\n",
       "<small>shape: (12, 5)</small><table border=\"1\" class=\"dataframe\"><thead><tr><th>month_start</th><th>pc_code</th><th>app_code</th><th>driver</th><th>cost</th></tr><tr><td>str</td><td>str</td><td>str</td><td>str</td><td>i64</td></tr></thead><tbody><tr><td>&quot;2023_01&quot;</td><td>&quot;z1&quot;</td><td>&quot;x&quot;</td><td>&quot;y1&quot;</td><td>1</td></tr><tr><td>&quot;2023_01&quot;</td><td>&quot;z1&quot;</td><td>&quot;y&quot;</td><td>&quot;y1&quot;</td><td>2</td></tr><tr><td>&quot;2023_01&quot;</td><td>&quot;z1&quot;</td><td>&quot;z&quot;</td><td>&quot;y1&quot;</td><td>1</td></tr><tr><td>&quot;2023_01&quot;</td><td>&quot;z2&quot;</td><td>&quot;z&quot;</td><td>&quot;y2&quot;</td><td>2</td></tr><tr><td>&quot;2023_02&quot;</td><td>&quot;z1&quot;</td><td>&quot;x&quot;</td><td>&quot;y1&quot;</td><td>1</td></tr><tr><td>&hellip;</td><td>&hellip;</td><td>&hellip;</td><td>&hellip;</td><td>&hellip;</td></tr><tr><td>&quot;2023_02&quot;</td><td>&quot;z2&quot;</td><td>&quot;z&quot;</td><td>&quot;y2&quot;</td><td>2</td></tr><tr><td>&quot;2023_03&quot;</td><td>&quot;z1&quot;</td><td>&quot;x&quot;</td><td>&quot;y1&quot;</td><td>1</td></tr><tr><td>&quot;2023_03&quot;</td><td>&quot;z1&quot;</td><td>&quot;y&quot;</td><td>&quot;y1&quot;</td><td>2</td></tr><tr><td>&quot;2023_03&quot;</td><td>&quot;z1&quot;</td><td>&quot;z&quot;</td><td>&quot;y1&quot;</td><td>1</td></tr><tr><td>&quot;2023_03&quot;</td><td>&quot;z2&quot;</td><td>&quot;z&quot;</td><td>&quot;y2&quot;</td><td>100</td></tr></tbody></table></div>"
      ],
      "text/plain": [
       "shape: (12, 5)\n",
       "┌─────────────┬─────────┬──────────┬────────┬──────┐\n",
       "│ month_start ┆ pc_code ┆ app_code ┆ driver ┆ cost │\n",
       "│ ---         ┆ ---     ┆ ---      ┆ ---    ┆ ---  │\n",
       "│ str         ┆ str     ┆ str      ┆ str    ┆ i64  │\n",
       "╞═════════════╪═════════╪══════════╪════════╪══════╡\n",
       "│ 2023_01     ┆ z1      ┆ x        ┆ y1     ┆ 1    │\n",
       "│ 2023_01     ┆ z1      ┆ y        ┆ y1     ┆ 2    │\n",
       "│ 2023_01     ┆ z1      ┆ z        ┆ y1     ┆ 1    │\n",
       "│ 2023_01     ┆ z2      ┆ z        ┆ y2     ┆ 2    │\n",
       "│ 2023_02     ┆ z1      ┆ x        ┆ y1     ┆ 1    │\n",
       "│ …           ┆ …       ┆ …        ┆ …      ┆ …    │\n",
       "│ 2023_02     ┆ z2      ┆ z        ┆ y2     ┆ 2    │\n",
       "│ 2023_03     ┆ z1      ┆ x        ┆ y1     ┆ 1    │\n",
       "│ 2023_03     ┆ z1      ┆ y        ┆ y1     ┆ 2    │\n",
       "│ 2023_03     ┆ z1      ┆ z        ┆ y1     ┆ 1    │\n",
       "│ 2023_03     ┆ z2      ┆ z        ┆ y2     ┆ 100  │\n",
       "└─────────────┴─────────┴──────────┴────────┴──────┘"
      ]
     },
     "execution_count": 41,
     "metadata": {},
     "output_type": "execute_result"
    }
   ],
   "source": [
    "# send report\n",
    "dfg = dfm.group_by([\"month_start\", \"pc_code\", \"app_code\", \"driver\", ]).agg(pl.col(\"cost\").sum()).sort(by= \\\n",
    "                                                                                                      [\"month_start\", \"pc_code\", \"app_code\", \"driver\"])\n",
    "dfg"
   ]
  },
  {
   "cell_type": "markdown",
   "id": "4de600d5-afc7-4e9f-a418-730c07f09855",
   "metadata": {},
   "source": [
    "# polars.DataFrame.merge_sorted\n",
    "https://docs.pola.rs/py-polars/html/reference/dataframe/api/polars.DataFrame.merge_sorted.html\n"
   ]
  },
  {
   "cell_type": "code",
   "execution_count": null,
   "id": "ed95b5ca-87a9-4b2a-b0d2-e68380e20d92",
   "metadata": {},
   "outputs": [],
   "source": []
  }
 ],
 "metadata": {
  "kernelspec": {
   "display_name": "Python 3 (ipykernel)",
   "language": "python",
   "name": "python3"
  },
  "language_info": {
   "codemirror_mode": {
    "name": "ipython",
    "version": 3
   },
   "file_extension": ".py",
   "mimetype": "text/x-python",
   "name": "python",
   "nbconvert_exporter": "python",
   "pygments_lexer": "ipython3",
   "version": "3.11.8"
  }
 },
 "nbformat": 4,
 "nbformat_minor": 5
}
